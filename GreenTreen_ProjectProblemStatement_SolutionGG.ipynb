{
  "nbformat": 4,
  "nbformat_minor": 0,
  "metadata": {
    "colab": {
      "provenance": [],
      "gpuType": "T4"
    },
    "kernelspec": {
      "name": "python3",
      "display_name": "Python 3"
    },
    "language_info": {
      "name": "python"
    },
    "accelerator": "GPU"
  },
  "cells": [
    {
      "cell_type": "code",
      "source": [
        "pip install transformers torch"
      ],
      "metadata": {
        "colab": {
          "base_uri": "https://localhost:8080/"
        },
        "id": "8ppO0hYt4sR3",
        "outputId": "d956769c-430a-431a-ec15-4587ea5c9da8"
      },
      "execution_count": 32,
      "outputs": [
        {
          "output_type": "stream",
          "name": "stdout",
          "text": [
            "Requirement already satisfied: transformers in /usr/local/lib/python3.11/dist-packages (4.52.4)\n",
            "Requirement already satisfied: torch in /usr/local/lib/python3.11/dist-packages (2.6.0+cu124)\n",
            "Requirement already satisfied: filelock in /usr/local/lib/python3.11/dist-packages (from transformers) (3.18.0)\n",
            "Requirement already satisfied: huggingface-hub<1.0,>=0.30.0 in /usr/local/lib/python3.11/dist-packages (from transformers) (0.32.4)\n",
            "Requirement already satisfied: numpy>=1.17 in /usr/local/lib/python3.11/dist-packages (from transformers) (2.0.2)\n",
            "Requirement already satisfied: packaging>=20.0 in /usr/local/lib/python3.11/dist-packages (from transformers) (24.2)\n",
            "Requirement already satisfied: pyyaml>=5.1 in /usr/local/lib/python3.11/dist-packages (from transformers) (6.0.2)\n",
            "Requirement already satisfied: regex!=2019.12.17 in /usr/local/lib/python3.11/dist-packages (from transformers) (2024.11.6)\n",
            "Requirement already satisfied: requests in /usr/local/lib/python3.11/dist-packages (from transformers) (2.32.3)\n",
            "Requirement already satisfied: tokenizers<0.22,>=0.21 in /usr/local/lib/python3.11/dist-packages (from transformers) (0.21.1)\n",
            "Requirement already satisfied: safetensors>=0.4.3 in /usr/local/lib/python3.11/dist-packages (from transformers) (0.5.3)\n",
            "Requirement already satisfied: tqdm>=4.27 in /usr/local/lib/python3.11/dist-packages (from transformers) (4.67.1)\n",
            "Requirement already satisfied: typing-extensions>=4.10.0 in /usr/local/lib/python3.11/dist-packages (from torch) (4.14.0)\n",
            "Requirement already satisfied: networkx in /usr/local/lib/python3.11/dist-packages (from torch) (3.5)\n",
            "Requirement already satisfied: jinja2 in /usr/local/lib/python3.11/dist-packages (from torch) (3.1.6)\n",
            "Requirement already satisfied: fsspec in /usr/local/lib/python3.11/dist-packages (from torch) (2025.3.2)\n",
            "Requirement already satisfied: nvidia-cuda-nvrtc-cu12==12.4.127 in /usr/local/lib/python3.11/dist-packages (from torch) (12.4.127)\n",
            "Requirement already satisfied: nvidia-cuda-runtime-cu12==12.4.127 in /usr/local/lib/python3.11/dist-packages (from torch) (12.4.127)\n",
            "Requirement already satisfied: nvidia-cuda-cupti-cu12==12.4.127 in /usr/local/lib/python3.11/dist-packages (from torch) (12.4.127)\n",
            "Requirement already satisfied: nvidia-cudnn-cu12==9.1.0.70 in /usr/local/lib/python3.11/dist-packages (from torch) (9.1.0.70)\n",
            "Requirement already satisfied: nvidia-cublas-cu12==12.4.5.8 in /usr/local/lib/python3.11/dist-packages (from torch) (12.4.5.8)\n",
            "Requirement already satisfied: nvidia-cufft-cu12==11.2.1.3 in /usr/local/lib/python3.11/dist-packages (from torch) (11.2.1.3)\n",
            "Requirement already satisfied: nvidia-curand-cu12==10.3.5.147 in /usr/local/lib/python3.11/dist-packages (from torch) (10.3.5.147)\n",
            "Requirement already satisfied: nvidia-cusolver-cu12==11.6.1.9 in /usr/local/lib/python3.11/dist-packages (from torch) (11.6.1.9)\n",
            "Requirement already satisfied: nvidia-cusparse-cu12==12.3.1.170 in /usr/local/lib/python3.11/dist-packages (from torch) (12.3.1.170)\n",
            "Requirement already satisfied: nvidia-cusparselt-cu12==0.6.2 in /usr/local/lib/python3.11/dist-packages (from torch) (0.6.2)\n",
            "Requirement already satisfied: nvidia-nccl-cu12==2.21.5 in /usr/local/lib/python3.11/dist-packages (from torch) (2.21.5)\n",
            "Requirement already satisfied: nvidia-nvtx-cu12==12.4.127 in /usr/local/lib/python3.11/dist-packages (from torch) (12.4.127)\n",
            "Requirement already satisfied: nvidia-nvjitlink-cu12==12.4.127 in /usr/local/lib/python3.11/dist-packages (from torch) (12.4.127)\n",
            "Requirement already satisfied: triton==3.2.0 in /usr/local/lib/python3.11/dist-packages (from torch) (3.2.0)\n",
            "Requirement already satisfied: sympy==1.13.1 in /usr/local/lib/python3.11/dist-packages (from torch) (1.13.1)\n",
            "Requirement already satisfied: mpmath<1.4,>=1.1.0 in /usr/local/lib/python3.11/dist-packages (from sympy==1.13.1->torch) (1.3.0)\n",
            "Requirement already satisfied: hf-xet<2.0.0,>=1.1.2 in /usr/local/lib/python3.11/dist-packages (from huggingface-hub<1.0,>=0.30.0->transformers) (1.1.2)\n",
            "Requirement already satisfied: MarkupSafe>=2.0 in /usr/local/lib/python3.11/dist-packages (from jinja2->torch) (3.0.2)\n",
            "Requirement already satisfied: charset-normalizer<4,>=2 in /usr/local/lib/python3.11/dist-packages (from requests->transformers) (3.4.2)\n",
            "Requirement already satisfied: idna<4,>=2.5 in /usr/local/lib/python3.11/dist-packages (from requests->transformers) (3.10)\n",
            "Requirement already satisfied: urllib3<3,>=1.21.1 in /usr/local/lib/python3.11/dist-packages (from requests->transformers) (2.4.0)\n",
            "Requirement already satisfied: certifi>=2017.4.17 in /usr/local/lib/python3.11/dist-packages (from requests->transformers) (2025.4.26)\n"
          ]
        }
      ]
    },
    {
      "cell_type": "markdown",
      "source": [
        "## Task 1: Sentiment Labeling\n",
        "\n",
        "The first part of this analysis focuses on assigning a sentiment label — **Positive**, **Negative**, or **Neutral** — to each employee email. To do this, I used a pre-trained transformer-based language model that understands the context of text rather than just looking at keywords or numbers.\n",
        "\n",
        "Using a language model helps avoid issues like manually guessing sentiment thresholds or assuming that every domain expresses emotion in the same way. Instead, the model provides clear sentiment predictions based on how the text \"feels\" overall.\n"
      ],
      "metadata": {
        "id": "L_gNV-uYuJog"
      }
    },
    {
      "cell_type": "markdown",
      "source": [
        "### Importing Libraries and Dataset\n",
        "\n",
        "The process begins by reading the CSV file that contains employee email content. Only the message body is needed for sentiment analysis, so all other columns are ignored. Empty messages are filtered out to avoid errors during classification.\n",
        "\n"
      ],
      "metadata": {
        "id": "qe48uIYcuoyY"
      }
    },
    {
      "cell_type": "code",
      "source": [
        "import pandas as pd\n",
        "import re\n",
        "import os\n",
        "import seaborn as sns\n",
        "import matplotlib.pyplot as plt\n",
        "\n",
        "df = pd.read_csv(\"test(in).csv\")"
      ],
      "metadata": {
        "id": "5D4IWDpouJ2D"
      },
      "execution_count": 33,
      "outputs": []
    },
    {
      "cell_type": "markdown",
      "source": [
        "## Model Selection and Tokenizer\n",
        "\n",
        "To detect sentiment, I used a RoBERTa model that has already been trained to distinguish between **Positive**, **Neutral**, and **Negative** messages. This saves time and ensures the predictions come from a reliable, tested setup. The tokenizer helps prepare the text before it goes into the model.\n"
      ],
      "metadata": {
        "id": "bmH-6cR3IeYY"
      }
    },
    {
      "cell_type": "code",
      "source": [
        "from transformers import AutoTokenizer, AutoModelForSequenceClassification, TextClassificationPipeline\n",
        "import torch\n",
        "\n",
        "model_name = \"cardiffnlp/twitter-roberta-base-sentiment\"\n",
        "tokenizer = AutoTokenizer.from_pretrained(model_name)\n",
        "model = AutoModelForSequenceClassification.from_pretrained(model_name)\n",
        "\n",
        "device = 0 if torch.cuda.is_available() else -1\n",
        "classifier = TextClassificationPipeline(model=model, tokenizer=tokenizer, return_all_scores=True, device=device)"
      ],
      "metadata": {
        "colab": {
          "base_uri": "https://localhost:8080/"
        },
        "id": "o-3vRwnINSN2",
        "outputId": "3d18a7b2-22b6-40d5-eb39-3fadc813527e"
      },
      "execution_count": 34,
      "outputs": [
        {
          "output_type": "stream",
          "name": "stderr",
          "text": [
            "Device set to use cuda:0\n",
            "/usr/local/lib/python3.11/dist-packages/transformers/pipelines/text_classification.py:106: UserWarning: `return_all_scores` is now deprecated,  if want a similar functionality use `top_k=None` instead of `return_all_scores=True` or `top_k=1` instead of `return_all_scores=False`.\n",
            "  warnings.warn(\n"
          ]
        }
      ]
    },
    {
      "cell_type": "markdown",
      "source": [
        "### Sentiment Labelling Method\n",
        "\n",
        "Each message is passed through the model. The model gives back scores for each class — Positive, Neutral, and Negative. I simply pick the one with the highest score as the final label. If anything breaks along the way, I fall back to \"Neutral\" so that nothing crashes downstream.\n"
      ],
      "metadata": {
        "id": "txrptqkmJbBI"
      }
    },
    {
      "cell_type": "code",
      "source": [
        "def get_sentiment(text):\n",
        "    try:\n",
        "        result = classifier(text[:512])[0]\n",
        "        top = max(result, key=lambda x: x['score'])\n",
        "        return top['label'].capitalize()\n",
        "    except:\n",
        "        return \"Neutral\""
      ],
      "metadata": {
        "id": "tn9afZ5JuKZc"
      },
      "execution_count": 35,
      "outputs": []
    },
    {
      "cell_type": "markdown",
      "source": [
        "### Running Model on all messages\n",
        "\n",
        "With the function ready, I now apply it to every message. This adds a new column to the dataset that tells us whether the message is positive, negative, or neutral in tone.\n"
      ],
      "metadata": {
        "id": "ZYyYFDb4Jmws"
      }
    },
    {
      "cell_type": "code",
      "source": [
        "df[\"sentiment_label\"] = df[\"body\"].astype(str).apply(get_sentiment)"
      ],
      "metadata": {
        "id": "CLiQHjZDJxq9"
      },
      "execution_count": 36,
      "outputs": []
    },
    {
      "cell_type": "markdown",
      "source": [
        "### Saving the output\n",
        "\n",
        "The labeled messages are saved into a new file for later use. It’s a good idea to check the top few rows to make sure everything looks okay before moving forward.\n"
      ],
      "metadata": {
        "id": "9xtJUJmoLGQr"
      }
    },
    {
      "cell_type": "code",
      "source": [
        "df.to_csv(\"labeled_dataset_roberta_3class.csv\", index=False)\n",
        "df[[\"body\", \"sentiment_label\"]].head()"
      ],
      "metadata": {
        "colab": {
          "base_uri": "https://localhost:8080/",
          "height": 206
        },
        "id": "_vSHJojhLKmu",
        "outputId": "a7066574-e57c-41bb-d4a0-00122356a821"
      },
      "execution_count": 37,
      "outputs": [
        {
          "output_type": "execute_result",
          "data": {
            "text/plain": [
              "                                                body sentiment_label\n",
              "0  EnronOptions Announcement\\n\\n\\nWe have updated...         Label_2\n",
              "1  Marc,\\n\\nUnfortunately, today is not going to ...         Label_0\n",
              "2  When: Wednesday, June 06, 2001 10:00 AM-11:00 ...         Label_1\n",
              "3  we were thinking papasitos (we can meet somewh...         Label_1\n",
              "4  Since you never gave me the $20 for the last t...         Label_1"
            ],
            "text/html": [
              "\n",
              "  <div id=\"df-28263a6e-911a-4ecf-b867-87c7f0283b4b\" class=\"colab-df-container\">\n",
              "    <div>\n",
              "<style scoped>\n",
              "    .dataframe tbody tr th:only-of-type {\n",
              "        vertical-align: middle;\n",
              "    }\n",
              "\n",
              "    .dataframe tbody tr th {\n",
              "        vertical-align: top;\n",
              "    }\n",
              "\n",
              "    .dataframe thead th {\n",
              "        text-align: right;\n",
              "    }\n",
              "</style>\n",
              "<table border=\"1\" class=\"dataframe\">\n",
              "  <thead>\n",
              "    <tr style=\"text-align: right;\">\n",
              "      <th></th>\n",
              "      <th>body</th>\n",
              "      <th>sentiment_label</th>\n",
              "    </tr>\n",
              "  </thead>\n",
              "  <tbody>\n",
              "    <tr>\n",
              "      <th>0</th>\n",
              "      <td>EnronOptions Announcement\\n\\n\\nWe have updated...</td>\n",
              "      <td>Label_2</td>\n",
              "    </tr>\n",
              "    <tr>\n",
              "      <th>1</th>\n",
              "      <td>Marc,\\n\\nUnfortunately, today is not going to ...</td>\n",
              "      <td>Label_0</td>\n",
              "    </tr>\n",
              "    <tr>\n",
              "      <th>2</th>\n",
              "      <td>When: Wednesday, June 06, 2001 10:00 AM-11:00 ...</td>\n",
              "      <td>Label_1</td>\n",
              "    </tr>\n",
              "    <tr>\n",
              "      <th>3</th>\n",
              "      <td>we were thinking papasitos (we can meet somewh...</td>\n",
              "      <td>Label_1</td>\n",
              "    </tr>\n",
              "    <tr>\n",
              "      <th>4</th>\n",
              "      <td>Since you never gave me the $20 for the last t...</td>\n",
              "      <td>Label_1</td>\n",
              "    </tr>\n",
              "  </tbody>\n",
              "</table>\n",
              "</div>\n",
              "    <div class=\"colab-df-buttons\">\n",
              "\n",
              "  <div class=\"colab-df-container\">\n",
              "    <button class=\"colab-df-convert\" onclick=\"convertToInteractive('df-28263a6e-911a-4ecf-b867-87c7f0283b4b')\"\n",
              "            title=\"Convert this dataframe to an interactive table.\"\n",
              "            style=\"display:none;\">\n",
              "\n",
              "  <svg xmlns=\"http://www.w3.org/2000/svg\" height=\"24px\" viewBox=\"0 -960 960 960\">\n",
              "    <path d=\"M120-120v-720h720v720H120Zm60-500h600v-160H180v160Zm220 220h160v-160H400v160Zm0 220h160v-160H400v160ZM180-400h160v-160H180v160Zm440 0h160v-160H620v160ZM180-180h160v-160H180v160Zm440 0h160v-160H620v160Z\"/>\n",
              "  </svg>\n",
              "    </button>\n",
              "\n",
              "  <style>\n",
              "    .colab-df-container {\n",
              "      display:flex;\n",
              "      gap: 12px;\n",
              "    }\n",
              "\n",
              "    .colab-df-convert {\n",
              "      background-color: #E8F0FE;\n",
              "      border: none;\n",
              "      border-radius: 50%;\n",
              "      cursor: pointer;\n",
              "      display: none;\n",
              "      fill: #1967D2;\n",
              "      height: 32px;\n",
              "      padding: 0 0 0 0;\n",
              "      width: 32px;\n",
              "    }\n",
              "\n",
              "    .colab-df-convert:hover {\n",
              "      background-color: #E2EBFA;\n",
              "      box-shadow: 0px 1px 2px rgba(60, 64, 67, 0.3), 0px 1px 3px 1px rgba(60, 64, 67, 0.15);\n",
              "      fill: #174EA6;\n",
              "    }\n",
              "\n",
              "    .colab-df-buttons div {\n",
              "      margin-bottom: 4px;\n",
              "    }\n",
              "\n",
              "    [theme=dark] .colab-df-convert {\n",
              "      background-color: #3B4455;\n",
              "      fill: #D2E3FC;\n",
              "    }\n",
              "\n",
              "    [theme=dark] .colab-df-convert:hover {\n",
              "      background-color: #434B5C;\n",
              "      box-shadow: 0px 1px 3px 1px rgba(0, 0, 0, 0.15);\n",
              "      filter: drop-shadow(0px 1px 2px rgba(0, 0, 0, 0.3));\n",
              "      fill: #FFFFFF;\n",
              "    }\n",
              "  </style>\n",
              "\n",
              "    <script>\n",
              "      const buttonEl =\n",
              "        document.querySelector('#df-28263a6e-911a-4ecf-b867-87c7f0283b4b button.colab-df-convert');\n",
              "      buttonEl.style.display =\n",
              "        google.colab.kernel.accessAllowed ? 'block' : 'none';\n",
              "\n",
              "      async function convertToInteractive(key) {\n",
              "        const element = document.querySelector('#df-28263a6e-911a-4ecf-b867-87c7f0283b4b');\n",
              "        const dataTable =\n",
              "          await google.colab.kernel.invokeFunction('convertToInteractive',\n",
              "                                                    [key], {});\n",
              "        if (!dataTable) return;\n",
              "\n",
              "        const docLinkHtml = 'Like what you see? Visit the ' +\n",
              "          '<a target=\"_blank\" href=https://colab.research.google.com/notebooks/data_table.ipynb>data table notebook</a>'\n",
              "          + ' to learn more about interactive tables.';\n",
              "        element.innerHTML = '';\n",
              "        dataTable['output_type'] = 'display_data';\n",
              "        await google.colab.output.renderOutput(dataTable, element);\n",
              "        const docLink = document.createElement('div');\n",
              "        docLink.innerHTML = docLinkHtml;\n",
              "        element.appendChild(docLink);\n",
              "      }\n",
              "    </script>\n",
              "  </div>\n",
              "\n",
              "\n",
              "    <div id=\"df-ff213b8a-05cd-44e2-835d-c5ccb21618d6\">\n",
              "      <button class=\"colab-df-quickchart\" onclick=\"quickchart('df-ff213b8a-05cd-44e2-835d-c5ccb21618d6')\"\n",
              "                title=\"Suggest charts\"\n",
              "                style=\"display:none;\">\n",
              "\n",
              "<svg xmlns=\"http://www.w3.org/2000/svg\" height=\"24px\"viewBox=\"0 0 24 24\"\n",
              "     width=\"24px\">\n",
              "    <g>\n",
              "        <path d=\"M19 3H5c-1.1 0-2 .9-2 2v14c0 1.1.9 2 2 2h14c1.1 0 2-.9 2-2V5c0-1.1-.9-2-2-2zM9 17H7v-7h2v7zm4 0h-2V7h2v10zm4 0h-2v-4h2v4z\"/>\n",
              "    </g>\n",
              "</svg>\n",
              "      </button>\n",
              "\n",
              "<style>\n",
              "  .colab-df-quickchart {\n",
              "      --bg-color: #E8F0FE;\n",
              "      --fill-color: #1967D2;\n",
              "      --hover-bg-color: #E2EBFA;\n",
              "      --hover-fill-color: #174EA6;\n",
              "      --disabled-fill-color: #AAA;\n",
              "      --disabled-bg-color: #DDD;\n",
              "  }\n",
              "\n",
              "  [theme=dark] .colab-df-quickchart {\n",
              "      --bg-color: #3B4455;\n",
              "      --fill-color: #D2E3FC;\n",
              "      --hover-bg-color: #434B5C;\n",
              "      --hover-fill-color: #FFFFFF;\n",
              "      --disabled-bg-color: #3B4455;\n",
              "      --disabled-fill-color: #666;\n",
              "  }\n",
              "\n",
              "  .colab-df-quickchart {\n",
              "    background-color: var(--bg-color);\n",
              "    border: none;\n",
              "    border-radius: 50%;\n",
              "    cursor: pointer;\n",
              "    display: none;\n",
              "    fill: var(--fill-color);\n",
              "    height: 32px;\n",
              "    padding: 0;\n",
              "    width: 32px;\n",
              "  }\n",
              "\n",
              "  .colab-df-quickchart:hover {\n",
              "    background-color: var(--hover-bg-color);\n",
              "    box-shadow: 0 1px 2px rgba(60, 64, 67, 0.3), 0 1px 3px 1px rgba(60, 64, 67, 0.15);\n",
              "    fill: var(--button-hover-fill-color);\n",
              "  }\n",
              "\n",
              "  .colab-df-quickchart-complete:disabled,\n",
              "  .colab-df-quickchart-complete:disabled:hover {\n",
              "    background-color: var(--disabled-bg-color);\n",
              "    fill: var(--disabled-fill-color);\n",
              "    box-shadow: none;\n",
              "  }\n",
              "\n",
              "  .colab-df-spinner {\n",
              "    border: 2px solid var(--fill-color);\n",
              "    border-color: transparent;\n",
              "    border-bottom-color: var(--fill-color);\n",
              "    animation:\n",
              "      spin 1s steps(1) infinite;\n",
              "  }\n",
              "\n",
              "  @keyframes spin {\n",
              "    0% {\n",
              "      border-color: transparent;\n",
              "      border-bottom-color: var(--fill-color);\n",
              "      border-left-color: var(--fill-color);\n",
              "    }\n",
              "    20% {\n",
              "      border-color: transparent;\n",
              "      border-left-color: var(--fill-color);\n",
              "      border-top-color: var(--fill-color);\n",
              "    }\n",
              "    30% {\n",
              "      border-color: transparent;\n",
              "      border-left-color: var(--fill-color);\n",
              "      border-top-color: var(--fill-color);\n",
              "      border-right-color: var(--fill-color);\n",
              "    }\n",
              "    40% {\n",
              "      border-color: transparent;\n",
              "      border-right-color: var(--fill-color);\n",
              "      border-top-color: var(--fill-color);\n",
              "    }\n",
              "    60% {\n",
              "      border-color: transparent;\n",
              "      border-right-color: var(--fill-color);\n",
              "    }\n",
              "    80% {\n",
              "      border-color: transparent;\n",
              "      border-right-color: var(--fill-color);\n",
              "      border-bottom-color: var(--fill-color);\n",
              "    }\n",
              "    90% {\n",
              "      border-color: transparent;\n",
              "      border-bottom-color: var(--fill-color);\n",
              "    }\n",
              "  }\n",
              "</style>\n",
              "\n",
              "      <script>\n",
              "        async function quickchart(key) {\n",
              "          const quickchartButtonEl =\n",
              "            document.querySelector('#' + key + ' button');\n",
              "          quickchartButtonEl.disabled = true;  // To prevent multiple clicks.\n",
              "          quickchartButtonEl.classList.add('colab-df-spinner');\n",
              "          try {\n",
              "            const charts = await google.colab.kernel.invokeFunction(\n",
              "                'suggestCharts', [key], {});\n",
              "          } catch (error) {\n",
              "            console.error('Error during call to suggestCharts:', error);\n",
              "          }\n",
              "          quickchartButtonEl.classList.remove('colab-df-spinner');\n",
              "          quickchartButtonEl.classList.add('colab-df-quickchart-complete');\n",
              "        }\n",
              "        (() => {\n",
              "          let quickchartButtonEl =\n",
              "            document.querySelector('#df-ff213b8a-05cd-44e2-835d-c5ccb21618d6 button');\n",
              "          quickchartButtonEl.style.display =\n",
              "            google.colab.kernel.accessAllowed ? 'block' : 'none';\n",
              "        })();\n",
              "      </script>\n",
              "    </div>\n",
              "\n",
              "    </div>\n",
              "  </div>\n"
            ],
            "application/vnd.google.colaboratory.intrinsic+json": {
              "type": "dataframe",
              "summary": "{\n  \"name\": \"df[[\\\"body\\\", \\\"sentiment_label\\\"]]\",\n  \"rows\": 5,\n  \"fields\": [\n    {\n      \"column\": \"body\",\n      \"properties\": {\n        \"dtype\": \"string\",\n        \"num_unique_values\": 5,\n        \"samples\": [\n          \"Marc,\\n\\nUnfortunately, today is not going to work for the revenue model for mid & \\nback office services meeting.  How about this coming Monday, Feb 26 from 1:00 \\n- 2:30 pm?  I have penciled in that time for Sally, Mary Solmonson & James \\nScribner.  Please let me know if that will work for you.\\n\\nThanks,\\nPatti x39106\",\n          \"Since you never gave me the $20 for the last time we bet on CU/Texas, I figured I would give you the chance to go double or nothing on the second round.  I think the line is Texas -9.  Let me know.\",\n          \"When: Wednesday, June 06, 2001 10:00 AM-11:00 AM (GMT-06:00) Central Time (US & Canada).\\nWhere:  @ 10:00am CST  (225) 931-8111\\n\\n*~*~*~*~*~*~*~*~*~*\\n\\n \"\n        ],\n        \"semantic_type\": \"\",\n        \"description\": \"\"\n      }\n    },\n    {\n      \"column\": \"sentiment_label\",\n      \"properties\": {\n        \"dtype\": \"string\",\n        \"num_unique_values\": 3,\n        \"samples\": [\n          \"Label_2\",\n          \"Label_0\",\n          \"Label_1\"\n        ],\n        \"semantic_type\": \"\",\n        \"description\": \"\"\n      }\n    }\n  ]\n}"
            }
          },
          "metadata": {},
          "execution_count": 37
        }
      ]
    },
    {
      "cell_type": "markdown",
      "source": [
        "## Visualizing Sentiment Spread\n",
        "\n",
        "To get a quick sense of how employees are feeling overall, I plotted how many messages fell into each sentiment category. This gives a basic but useful view of general tone.\n"
      ],
      "metadata": {
        "id": "myePzjJpLWux"
      }
    },
    {
      "cell_type": "code",
      "source": [
        "os.makedirs(\"visualization\", exist_ok=True)\n",
        "\n",
        "df[\"sentiment_label\"].value_counts().plot(kind=\"bar\", color=[\"green\", \"gray\", \"red\"])\n",
        "plt.title(\"3-Class Sentiment Distribution (RoBERTa)\")\n",
        "plt.xlabel(\"Sentiment\")\n",
        "plt.ylabel(\"Number of Messages\")\n",
        "plt.tight_layout()\n",
        "plt.savefig(\"visualization/roberta_sentiment_distribution.png\")\n",
        "plt.show()"
      ],
      "metadata": {
        "colab": {
          "base_uri": "https://localhost:8080/",
          "height": 487
        },
        "id": "LEqUnTyWLV9U",
        "outputId": "ee6ea8dd-397f-4410-b343-35bfd50b8036"
      },
      "execution_count": 38,
      "outputs": [
        {
          "output_type": "display_data",
          "data": {
            "text/plain": [
              "<Figure size 640x480 with 1 Axes>"
            ],
            "image/png": "[encoded data removed]"
          },
          "metadata": {}
        }
      ]
    },
    {
      "cell_type": "markdown",
      "source": [
        "### Summary of Task 1 Sentiment Labelling with RoBERTa\n",
        "\n",
        "For this task, I used a transformer-based model (`cardiffnlp/twitter-roberta-base-sentiment`) to assign each email message a sentiment label — **Positive**, **Negative**, or **Neutral**.\n",
        "\n",
        "This model avoids the need for fixed polarity thresholds and instead uses contextual understanding to predict how a message \"feels.\" It outputs scores for all three categories, and the label with the highest confidence is selected.\n",
        "\n",
        "After processing the messages, the distribution showed that:\n",
        "- A large number of emails were categorized as **Neutral** (`Label_1`),\n",
        "- Followed by a smaller portion marked as **Positive** (`Label_2`),\n",
        "- And a limited number labeled **Negative** (`Label_0`).\n",
        "\n",
        "This result seems consistent with how professional or formal email communication usually works — many messages are informational or task-driven, with fewer containing emotionally charged content.\n",
        "\n",
        "The sentiment labeling completed here forms the basis for all further tasks like scoring, ranking, and predicting employee risk.\n"
      ],
      "metadata": {
        "id": "sGNcc7lvxTyk"
      }
    },
    {
      "cell_type": "markdown",
      "source": [
        "## Task 2: Exploratory Data Analysis (EDA)\n",
        "This step focuses on understanding the structure and distribution of the dataset. Before diving into scoring or modeling, it helps to explore what’s in the data — such as how sentiment is spread, whether there are missing values, and if there are any unusual patterns that stand out.\n",
        "\n",
        "The idea is not just to make charts, but to look for anything that might inform how people communicate, when sentiment shifts, or if certain trends are worth paying attention to later.\n"
      ],
      "metadata": {
        "id": "Fq5QL7caUVRM"
      }
    },
    {
      "cell_type": "markdown",
      "source": [
        "### Dataset"
      ],
      "metadata": {
        "id": "5ohlfG3RVaEt"
      }
    },
    {
      "cell_type": "code",
      "source": [
        "print(\"Number of messages:\", len(df))\n",
        "print(\"Columns available:\", df.columns.tolist())\n",
        "print(\"\\nFirst few rows:\\n\")\n",
        "df.head()"
      ],
      "metadata": {
        "id": "FfX6IjsJU1k6",
        "colab": {
          "base_uri": "https://localhost:8080/",
          "height": 293
        },
        "outputId": "9e577be3-6907-482f-8e19-40108a8a7987"
      },
      "execution_count": 39,
      "outputs": [
        {
          "output_type": "stream",
          "name": "stdout",
          "text": [
            "Number of messages: 2191\n",
            "Columns available: ['Subject', 'body', 'date', 'from', 'sentiment_label']\n",
            "\n",
            "First few rows:\n",
            "\n"
          ]
        },
        {
          "output_type": "execute_result",
          "data": {
            "text/plain": [
              "                                        Subject  \\\n",
              "0                          EnronOptions Update!   \n",
              "1                                  (No Subject)   \n",
              "2  Phone Screen  Interview - Shannon L. Burnham   \n",
              "3                         RE: My new work email   \n",
              "4                                           Bet   \n",
              "\n",
              "                                                body       date  \\\n",
              "0  EnronOptions Announcement\\n\\n\\nWe have updated...  5/10/2010   \n",
              "1  Marc,\\n\\nUnfortunately, today is not going to ...  7/29/2010   \n",
              "2  When: Wednesday, June 06, 2001 10:00 AM-11:00 ...  7/25/2011   \n",
              "3  we were thinking papasitos (we can meet somewh...  3/25/2010   \n",
              "4  Since you never gave me the $20 for the last t...  5/21/2011   \n",
              "\n",
              "                      from sentiment_label  \n",
              "0     sally.beck@enron.com         Label_2  \n",
              "1      eric.bass@enron.com         Label_0  \n",
              "2     sally.beck@enron.com         Label_1  \n",
              "3  johnny.palmer@enron.com         Label_1  \n",
              "4  lydia.delgado@enron.com         Label_1  "
            ],
            "text/html": [
              "\n",
              "  <div id=\"df-4e46502b-63a0-4622-8c7b-aef44ac04888\" class=\"colab-df-container\">\n",
              "    <div>\n",
              "<style scoped>\n",
              "    .dataframe tbody tr th:only-of-type {\n",
              "        vertical-align: middle;\n",
              "    }\n",
              "\n",
              "    .dataframe tbody tr th {\n",
              "        vertical-align: top;\n",
              "    }\n",
              "\n",
              "    .dataframe thead th {\n",
              "        text-align: right;\n",
              "    }\n",
              "</style>\n",
              "<table border=\"1\" class=\"dataframe\">\n",
              "  <thead>\n",
              "    <tr style=\"text-align: right;\">\n",
              "      <th></th>\n",
              "      <th>Subject</th>\n",
              "      <th>body</th>\n",
              "      <th>date</th>\n",
              "      <th>from</th>\n",
              "      <th>sentiment_label</th>\n",
              "    </tr>\n",
              "  </thead>\n",
              "  <tbody>\n",
              "    <tr>\n",
              "      <th>0</th>\n",
              "      <td>EnronOptions Update!</td>\n",
              "      <td>EnronOptions Announcement\\n\\n\\nWe have updated...</td>\n",
              "      <td>5/10/2010</td>\n",
              "      <td>sally.beck@enron.com</td>\n",
              "      <td>Label_2</td>\n",
              "    </tr>\n",
              "    <tr>\n",
              "      <th>1</th>\n",
              "      <td>(No Subject)</td>\n",
              "      <td>Marc,\\n\\nUnfortunately, today is not going to ...</td>\n",
              "      <td>7/29/2010</td>\n",
              "      <td>eric.bass@enron.com</td>\n",
              "      <td>Label_0</td>\n",
              "    </tr>\n",
              "    <tr>\n",
              "      <th>2</th>\n",
              "      <td>Phone Screen  Interview - Shannon L. Burnham</td>\n",
              "      <td>When: Wednesday, June 06, 2001 10:00 AM-11:00 ...</td>\n",
              "      <td>7/25/2011</td>\n",
              "      <td>sally.beck@enron.com</td>\n",
              "      <td>Label_1</td>\n",
              "    </tr>\n",
              "    <tr>\n",
              "      <th>3</th>\n",
              "      <td>RE: My new work email</td>\n",
              "      <td>we were thinking papasitos (we can meet somewh...</td>\n",
              "      <td>3/25/2010</td>\n",
              "      <td>johnny.palmer@enron.com</td>\n",
              "      <td>Label_1</td>\n",
              "    </tr>\n",
              "    <tr>\n",
              "      <th>4</th>\n",
              "      <td>Bet</td>\n",
              "      <td>Since you never gave me the $20 for the last t...</td>\n",
              "      <td>5/21/2011</td>\n",
              "      <td>lydia.delgado@enron.com</td>\n",
              "      <td>Label_1</td>\n",
              "    </tr>\n",
              "  </tbody>\n",
              "</table>\n",
              "</div>\n",
              "    <div class=\"colab-df-buttons\">\n",
              "\n",
              "  <div class=\"colab-df-container\">\n",
              "    <button class=\"colab-df-convert\" onclick=\"convertToInteractive('df-4e46502b-63a0-4622-8c7b-aef44ac04888')\"\n",
              "            title=\"Convert this dataframe to an interactive table.\"\n",
              "            style=\"display:none;\">\n",
              "\n",
              "  <svg xmlns=\"http://www.w3.org/2000/svg\" height=\"24px\" viewBox=\"0 -960 960 960\">\n",
              "    <path d=\"M120-120v-720h720v720H120Zm60-500h600v-160H180v160Zm220 220h160v-160H400v160Zm0 220h160v-160H400v160ZM180-400h160v-160H180v160Zm440 0h160v-160H620v160ZM180-180h160v-160H180v160Zm440 0h160v-160H620v160Z\"/>\n",
              "  </svg>\n",
              "    </button>\n",
              "\n",
              "  <style>\n",
              "    .colab-df-container {\n",
              "      display:flex;\n",
              "      gap: 12px;\n",
              "    }\n",
              "\n",
              "    .colab-df-convert {\n",
              "      background-color: #E8F0FE;\n",
              "      border: none;\n",
              "      border-radius: 50%;\n",
              "      cursor: pointer;\n",
              "      display: none;\n",
              "      fill: #1967D2;\n",
              "      height: 32px;\n",
              "      padding: 0 0 0 0;\n",
              "      width: 32px;\n",
              "    }\n",
              "\n",
              "    .colab-df-convert:hover {\n",
              "      background-color: #E2EBFA;\n",
              "      box-shadow: 0px 1px 2px rgba(60, 64, 67, 0.3), 0px 1px 3px 1px rgba(60, 64, 67, 0.15);\n",
              "      fill: #174EA6;\n",
              "    }\n",
              "\n",
              "    .colab-df-buttons div {\n",
              "      margin-bottom: 4px;\n",
              "    }\n",
              "\n",
              "    [theme=dark] .colab-df-convert {\n",
              "      background-color: #3B4455;\n",
              "      fill: #D2E3FC;\n",
              "    }\n",
              "\n",
              "    [theme=dark] .colab-df-convert:hover {\n",
              "      background-color: #434B5C;\n",
              "      box-shadow: 0px 1px 3px 1px rgba(0, 0, 0, 0.15);\n",
              "      filter: drop-shadow(0px 1px 2px rgba(0, 0, 0, 0.3));\n",
              "      fill: #FFFFFF;\n",
              "    }\n",
              "  </style>\n",
              "\n",
              "    <script>\n",
              "      const buttonEl =\n",
              "        document.querySelector('#df-4e46502b-63a0-4622-8c7b-aef44ac04888 button.colab-df-convert');\n",
              "      buttonEl.style.display =\n",
              "        google.colab.kernel.accessAllowed ? 'block' : 'none';\n",
              "\n",
              "      async function convertToInteractive(key) {\n",
              "        const element = document.querySelector('#df-4e46502b-63a0-4622-8c7b-aef44ac04888');\n",
              "        const dataTable =\n",
              "          await google.colab.kernel.invokeFunction('convertToInteractive',\n",
              "                                                    [key], {});\n",
              "        if (!dataTable) return;\n",
              "\n",
              "        const docLinkHtml = 'Like what you see? Visit the ' +\n",
              "          '<a target=\"_blank\" href=https://colab.research.google.com/notebooks/data_table.ipynb>data table notebook</a>'\n",
              "          + ' to learn more about interactive tables.';\n",
              "        element.innerHTML = '';\n",
              "        dataTable['output_type'] = 'display_data';\n",
              "        await google.colab.output.renderOutput(dataTable, element);\n",
              "        const docLink = document.createElement('div');\n",
              "        docLink.innerHTML = docLinkHtml;\n",
              "        element.appendChild(docLink);\n",
              "      }\n",
              "    </script>\n",
              "  </div>\n",
              "\n",
              "\n",
              "    <div id=\"df-6c3ee6b1-b126-4257-8250-9ef9e7d3c9e9\">\n",
              "      <button class=\"colab-df-quickchart\" onclick=\"quickchart('df-6c3ee6b1-b126-4257-8250-9ef9e7d3c9e9')\"\n",
              "                title=\"Suggest charts\"\n",
              "                style=\"display:none;\">\n",
              "\n",
              "<svg xmlns=\"http://www.w3.org/2000/svg\" height=\"24px\"viewBox=\"0 0 24 24\"\n",
              "     width=\"24px\">\n",
              "    <g>\n",
              "        <path d=\"M19 3H5c-1.1 0-2 .9-2 2v14c0 1.1.9 2 2 2h14c1.1 0 2-.9 2-2V5c0-1.1-.9-2-2-2zM9 17H7v-7h2v7zm4 0h-2V7h2v10zm4 0h-2v-4h2v4z\"/>\n",
              "    </g>\n",
              "</svg>\n",
              "      </button>\n",
              "\n",
              "<style>\n",
              "  .colab-df-quickchart {\n",
              "      --bg-color: #E8F0FE;\n",
              "      --fill-color: #1967D2;\n",
              "      --hover-bg-color: #E2EBFA;\n",
              "      --hover-fill-color: #174EA6;\n",
              "      --disabled-fill-color: #AAA;\n",
              "      --disabled-bg-color: #DDD;\n",
              "  }\n",
              "\n",
              "  [theme=dark] .colab-df-quickchart {\n",
              "      --bg-color: #3B4455;\n",
              "      --fill-color: #D2E3FC;\n",
              "      --hover-bg-color: #434B5C;\n",
              "      --hover-fill-color: #FFFFFF;\n",
              "      --disabled-bg-color: #3B4455;\n",
              "      --disabled-fill-color: #666;\n",
              "  }\n",
              "\n",
              "  .colab-df-quickchart {\n",
              "    background-color: var(--bg-color);\n",
              "    border: none;\n",
              "    border-radius: 50%;\n",
              "    cursor: pointer;\n",
              "    display: none;\n",
              "    fill: var(--fill-color);\n",
              "    height: 32px;\n",
              "    padding: 0;\n",
              "    width: 32px;\n",
              "  }\n",
              "\n",
              "  .colab-df-quickchart:hover {\n",
              "    background-color: var(--hover-bg-color);\n",
              "    box-shadow: 0 1px 2px rgba(60, 64, 67, 0.3), 0 1px 3px 1px rgba(60, 64, 67, 0.15);\n",
              "    fill: var(--button-hover-fill-color);\n",
              "  }\n",
              "\n",
              "  .colab-df-quickchart-complete:disabled,\n",
              "  .colab-df-quickchart-complete:disabled:hover {\n",
              "    background-color: var(--disabled-bg-color);\n",
              "    fill: var(--disabled-fill-color);\n",
              "    box-shadow: none;\n",
              "  }\n",
              "\n",
              "  .colab-df-spinner {\n",
              "    border: 2px solid var(--fill-color);\n",
              "    border-color: transparent;\n",
              "    border-bottom-color: var(--fill-color);\n",
              "    animation:\n",
              "      spin 1s steps(1) infinite;\n",
              "  }\n",
              "\n",
              "  @keyframes spin {\n",
              "    0% {\n",
              "      border-color: transparent;\n",
              "      border-bottom-color: var(--fill-color);\n",
              "      border-left-color: var(--fill-color);\n",
              "    }\n",
              "    20% {\n",
              "      border-color: transparent;\n",
              "      border-left-color: var(--fill-color);\n",
              "      border-top-color: var(--fill-color);\n",
              "    }\n",
              "    30% {\n",
              "      border-color: transparent;\n",
              "      border-left-color: var(--fill-color);\n",
              "      border-top-color: var(--fill-color);\n",
              "      border-right-color: var(--fill-color);\n",
              "    }\n",
              "    40% {\n",
              "      border-color: transparent;\n",
              "      border-right-color: var(--fill-color);\n",
              "      border-top-color: var(--fill-color);\n",
              "    }\n",
              "    60% {\n",
              "      border-color: transparent;\n",
              "      border-right-color: var(--fill-color);\n",
              "    }\n",
              "    80% {\n",
              "      border-color: transparent;\n",
              "      border-right-color: var(--fill-color);\n",
              "      border-bottom-color: var(--fill-color);\n",
              "    }\n",
              "    90% {\n",
              "      border-color: transparent;\n",
              "      border-bottom-color: var(--fill-color);\n",
              "    }\n",
              "  }\n",
              "</style>\n",
              "\n",
              "      <script>\n",
              "        async function quickchart(key) {\n",
              "          const quickchartButtonEl =\n",
              "            document.querySelector('#' + key + ' button');\n",
              "          quickchartButtonEl.disabled = true;  // To prevent multiple clicks.\n",
              "          quickchartButtonEl.classList.add('colab-df-spinner');\n",
              "          try {\n",
              "            const charts = await google.colab.kernel.invokeFunction(\n",
              "                'suggestCharts', [key], {});\n",
              "          } catch (error) {\n",
              "            console.error('Error during call to suggestCharts:', error);\n",
              "          }\n",
              "          quickchartButtonEl.classList.remove('colab-df-spinner');\n",
              "          quickchartButtonEl.classList.add('colab-df-quickchart-complete');\n",
              "        }\n",
              "        (() => {\n",
              "          let quickchartButtonEl =\n",
              "            document.querySelector('#df-6c3ee6b1-b126-4257-8250-9ef9e7d3c9e9 button');\n",
              "          quickchartButtonEl.style.display =\n",
              "            google.colab.kernel.accessAllowed ? 'block' : 'none';\n",
              "        })();\n",
              "      </script>\n",
              "    </div>\n",
              "\n",
              "    </div>\n",
              "  </div>\n"
            ],
            "application/vnd.google.colaboratory.intrinsic+json": {
              "type": "dataframe",
              "variable_name": "df",
              "summary": "{\n  \"name\": \"df\",\n  \"rows\": 2191,\n  \"fields\": [\n    {\n      \"column\": \"Subject\",\n      \"properties\": {\n        \"dtype\": \"string\",\n        \"num_unique_values\": 1251,\n        \"samples\": [\n          \"Engage Energy America LLC\",\n          \"Re: CRM system\",\n          \"Sally's itinerary 1/2/01\"\n        ],\n        \"semantic_type\": \"\",\n        \"description\": \"\"\n      }\n    },\n    {\n      \"column\": \"body\",\n      \"properties\": {\n        \"dtype\": \"string\",\n        \"num_unique_values\": 1539,\n        \"samples\": [\n          \"Don/Juan:\\n\\nSanjay is interested in an opportunity on the 24 hour desk.  Please advise of your interest.\\n\\nThanks,\\nJohnny\\n\\n \",\n          \"Don,\\n\\nWhat time are you getting married on September 22nd? Is the trip to Mexico\\nstill on and if so, what is the date for that and who do I need to contact\\nfor details? Also, do you have Travis's phone number so I can get a resume\\nfrom him to show to Duke Human Resources?\\n\\nSorry about the question barrage.\\n\\nBob Poston\\nDuke Energy\\n(713) 989-1712\\n(713) 989-0266 fax\\n(713) 204-7936 cell\\nrdposton@duke-energy.com\",\n          \"The promotional memo came out a few hours too late today for me to be able to \\nmention it when we talked this afternoon.  Congratulations on your promotion \\nto managing director!  --Sally \"\n        ],\n        \"semantic_type\": \"\",\n        \"description\": \"\"\n      }\n    },\n    {\n      \"column\": \"date\",\n      \"properties\": {\n        \"dtype\": \"object\",\n        \"num_unique_values\": 690,\n        \"samples\": [\n          \"8/29/2010\",\n          \"8/27/2010\",\n          \"4/16/2010\"\n        ],\n        \"semantic_type\": \"\",\n        \"description\": \"\"\n      }\n    },\n    {\n      \"column\": \"from\",\n      \"properties\": {\n        \"dtype\": \"category\",\n        \"num_unique_values\": 10,\n        \"samples\": [\n          \"john.arnold@enron.com\",\n          \"eric.bass@enron.com\",\n          \"patti.thompson@enron.com\"\n        ],\n        \"semantic_type\": \"\",\n        \"description\": \"\"\n      }\n    },\n    {\n      \"column\": \"sentiment_label\",\n      \"properties\": {\n        \"dtype\": \"category\",\n        \"num_unique_values\": 3,\n        \"samples\": [\n          \"Label_2\",\n          \"Label_0\",\n          \"Label_1\"\n        ],\n        \"semantic_type\": \"\",\n        \"description\": \"\"\n      }\n    }\n  ]\n}"
            }
          },
          "metadata": {},
          "execution_count": 39
        }
      ]
    },
    {
      "cell_type": "markdown",
      "source": [
        "### Missing Data\n",
        "\n",
        "Before proceeding further, it's worth seeing if there are any null or missing fields that could affect analysis. Sentiment relies on message text, so any gaps in that area would be critical.\n"
      ],
      "metadata": {
        "id": "K4hVUXlCVf1S"
      }
    },
    {
      "cell_type": "code",
      "source": [
        "missing_summary = df.isnull().sum()\n",
        "missing_summary[missing_summary > 0]"
      ],
      "metadata": {
        "colab": {
          "base_uri": "https://localhost:8080/",
          "height": 84
        },
        "id": "lcGXDZelVmBq",
        "outputId": "084be6bf-5d8c-4a25-9bd1-714ac3d23536"
      },
      "execution_count": 40,
      "outputs": [
        {
          "output_type": "execute_result",
          "data": {
            "text/plain": [
              "Series([], dtype: int64)"
            ],
            "text/html": [
              "<div>\n",
              "<style scoped>\n",
              "    .dataframe tbody tr th:only-of-type {\n",
              "        vertical-align: middle;\n",
              "    }\n",
              "\n",
              "    .dataframe tbody tr th {\n",
              "        vertical-align: top;\n",
              "    }\n",
              "\n",
              "    .dataframe thead th {\n",
              "        text-align: right;\n",
              "    }\n",
              "</style>\n",
              "<table border=\"1\" class=\"dataframe\">\n",
              "  <thead>\n",
              "    <tr style=\"text-align: right;\">\n",
              "      <th></th>\n",
              "      <th>0</th>\n",
              "    </tr>\n",
              "  </thead>\n",
              "  <tbody>\n",
              "  </tbody>\n",
              "</table>\n",
              "</div><br><label><b>dtype:</b> int64</label>"
            ]
          },
          "metadata": {},
          "execution_count": 40
        }
      ]
    },
    {
      "cell_type": "markdown",
      "source": [
        "### Sentiment label distribution\n",
        "\n",
        "One of the most basic but important things to check is how many messages fall into each sentiment category. This tells us whether the data is balanced or skewed toward one emotion."
      ],
      "metadata": {
        "id": "jQNpjkMRV9fm"
      }
    },
    {
      "cell_type": "markdown",
      "source": [
        "### Visualization"
      ],
      "metadata": {
        "id": "kGiE9ulVTNJU"
      }
    },
    {
      "cell_type": "code",
      "source": [
        "plt.figure(figsize=(6, 4))\n",
        "df[\"sentiment_label\"].value_counts().sort_index().plot(kind=\"bar\", color=[\"red\", \"gray\", \"green\"])\n",
        "plt.title(\"Message Count by Sentiment\")\n",
        "plt.xlabel(\"Sentiment\")\n",
        "plt.ylabel(\"Number of Messages\")\n",
        "plt.tight_layout()\n",
        "plt.savefig(\"visualization/eda_sentiment_distribution.png\")\n",
        "plt.show()"
      ],
      "metadata": {
        "colab": {
          "base_uri": "https://localhost:8080/",
          "height": 407
        },
        "id": "CLS5u2yKTK7b",
        "outputId": "ca2ade80-2f55-4997-dc48-94b711ee37da"
      },
      "execution_count": 41,
      "outputs": [
        {
          "output_type": "display_data",
          "data": {
            "text/plain": [
              "<Figure size 600x400 with 1 Axes>"
            ],
            "image/png": "[encoded data removed]"
          },
          "metadata": {}
        }
      ]
    },
    {
      "cell_type": "markdown",
      "source": [
        "## Message Length Distribution\n",
        "\n",
        "How long people write may give some context about message types. A very short message could be an acknowledgment, while long messages may include context, issues, or emotion.\n"
      ],
      "metadata": {
        "id": "JiPhqlE_Tffp"
      }
    },
    {
      "cell_type": "markdown",
      "source": [
        "### Calculation of Message Length"
      ],
      "metadata": {
        "id": "dfxi24BrWgyc"
      }
    },
    {
      "cell_type": "code",
      "source": [
        "df[\"message_length\"] = df[\"body\"].astype(str).apply(len)\n",
        "\n",
        "df[\"message_length\"].describe()\n"
      ],
      "metadata": {
        "colab": {
          "base_uri": "https://localhost:8080/",
          "height": 335
        },
        "id": "ltQg-UZOWoHV",
        "outputId": "e54cc0ac-337c-445b-9ef6-f987a08e6043"
      },
      "execution_count": 42,
      "outputs": [
        {
          "output_type": "execute_result",
          "data": {
            "text/plain": [
              "count    2191.000000\n",
              "mean      260.469649\n",
              "std       235.121212\n",
              "min         1.000000\n",
              "25%        83.000000\n",
              "50%       179.000000\n",
              "75%       355.000000\n",
              "max       999.000000\n",
              "Name: message_length, dtype: float64"
            ],
            "text/html": [
              "<div>\n",
              "<style scoped>\n",
              "    .dataframe tbody tr th:only-of-type {\n",
              "        vertical-align: middle;\n",
              "    }\n",
              "\n",
              "    .dataframe tbody tr th {\n",
              "        vertical-align: top;\n",
              "    }\n",
              "\n",
              "    .dataframe thead th {\n",
              "        text-align: right;\n",
              "    }\n",
              "</style>\n",
              "<table border=\"1\" class=\"dataframe\">\n",
              "  <thead>\n",
              "    <tr style=\"text-align: right;\">\n",
              "      <th></th>\n",
              "      <th>message_length</th>\n",
              "    </tr>\n",
              "  </thead>\n",
              "  <tbody>\n",
              "    <tr>\n",
              "      <th>count</th>\n",
              "      <td>2191.000000</td>\n",
              "    </tr>\n",
              "    <tr>\n",
              "      <th>mean</th>\n",
              "      <td>260.469649</td>\n",
              "    </tr>\n",
              "    <tr>\n",
              "      <th>std</th>\n",
              "      <td>235.121212</td>\n",
              "    </tr>\n",
              "    <tr>\n",
              "      <th>min</th>\n",
              "      <td>1.000000</td>\n",
              "    </tr>\n",
              "    <tr>\n",
              "      <th>25%</th>\n",
              "      <td>83.000000</td>\n",
              "    </tr>\n",
              "    <tr>\n",
              "      <th>50%</th>\n",
              "      <td>179.000000</td>\n",
              "    </tr>\n",
              "    <tr>\n",
              "      <th>75%</th>\n",
              "      <td>355.000000</td>\n",
              "    </tr>\n",
              "    <tr>\n",
              "      <th>max</th>\n",
              "      <td>999.000000</td>\n",
              "    </tr>\n",
              "  </tbody>\n",
              "</table>\n",
              "</div><br><label><b>dtype:</b> float64</label>"
            ]
          },
          "metadata": {},
          "execution_count": 42
        }
      ]
    },
    {
      "cell_type": "markdown",
      "source": [
        "### Plotting of Length Distribution"
      ],
      "metadata": {
        "id": "O43_RNAVW5PQ"
      }
    },
    {
      "cell_type": "code",
      "source": [
        "plt.figure(figsize=(6, 4))\n",
        "plt.hist(df[\"message_length\"], bins=30, color=\"steelblue\", edgecolor=\"black\")\n",
        "plt.title(\"Distribution of Message Lengths\")\n",
        "plt.xlabel(\"Number of Characters\")\n",
        "plt.ylabel(\"Message Count\")\n",
        "plt.tight_layout()\n",
        "plt.savefig(\"visualization/eda_message_length_histogram.png\")\n",
        "plt.show()"
      ],
      "metadata": {
        "colab": {
          "base_uri": "https://localhost:8080/",
          "height": 407
        },
        "id": "mTG0PAj6W-nv",
        "outputId": "8cece5d4-5962-454b-d52e-7f1fd87ac55f"
      },
      "execution_count": 43,
      "outputs": [
        {
          "output_type": "display_data",
          "data": {
            "text/plain": [
              "<Figure size 600x400 with 1 Axes>"
            ],
            "image/png": "[encoded data removed]"
          },
          "metadata": {}
        }
      ]
    },
    {
      "cell_type": "markdown",
      "source": [
        "## Does Sentiment Relate to Message Length?\n",
        "\n",
        "Sometimes people write more when expressing frustration or explaining a situation. Here we compare message lengths across sentiment labels to see if any such trend shows up.\n"
      ],
      "metadata": {
        "id": "v1iJ9jKSUAls"
      }
    },
    {
      "cell_type": "code",
      "source": [
        "plt.figure(figsize=(6, 4))\n",
        "sns.boxplot(x=\"sentiment_label\", y=\"message_length\", data=df)\n",
        "plt.title(\"Message Length by Sentiment\")\n",
        "plt.xlabel(\"Sentiment\")\n",
        "plt.ylabel(\"Message Length\")\n",
        "plt.tight_layout()\n",
        "plt.savefig(\"visualization/eda_boxplot_length_sentiment.png\")\n",
        "plt.show()\n"
      ],
      "metadata": {
        "colab": {
          "base_uri": "https://localhost:8080/",
          "height": 407
        },
        "id": "WXg_ouIvUF3Q",
        "outputId": "29af591f-fa76-40e5-a2dd-f9b1fdc02885"
      },
      "execution_count": 44,
      "outputs": [
        {
          "output_type": "display_data",
          "data": {
            "text/plain": [
              "<Figure size 600x400 with 1 Axes>"
            ],
            "image/png": "[encoded data removed]"
          },
          "metadata": {}
        }
      ]
    },
    {
      "cell_type": "markdown",
      "source": [
        "### Summary of Task 2 - EDA\n",
        "\n",
        "The exploratory analysis provided a few useful insights about the dataset. The sentiment distribution chart showed a clear imbalance, with most messages falling under **Neutral** (Label_1), followed by **Positive** (Label_2), and only a small portion labeled as **Negative** (Label_0). This matches expectations for formal email data, where strong emotional tones are less common.\n",
        "\n",
        "The histogram of message lengths revealed that most messages were short — under 200 characters — with a long tail of longer messages. This makes sense, as many workplace communications tend to be brief updates or replies. However, some outliers did go beyond 800–1000 characters.\n",
        "\n",
        "To explore whether sentiment had any connection to how much people wrote, I used a boxplot grouped by sentiment. It showed that **Positive messages** (Label_2) had a wider range and higher median message length, while **Negative messages** (Label_0) were relatively shorter on average, but with some long outliers. **Neutral messages** had a tighter range, centered around lower message lengths.\n",
        "\n",
        "### Why These Graphs Were Chosen:\n",
        "\n",
        "- **Bar Plot** was used to make the sentiment imbalance immediately visible. It's the clearest way to compare counts across categories.\n",
        "- **Histogram** helped reveal how messages are distributed in length overall, and whether the data was skewed or centered.\n",
        "- **Boxplot by Sentiment** allowed me to compare how writing style (in terms of length) varies with emotional tone, without making assumptions. It also highlighted the spread and presence of outliers in each group.\n",
        "\n",
        "These insights help frame what kind of patterns and assumptions might carry over into the scoring, risk detection, or modeling steps later in the project.\n",
        "\n"
      ],
      "metadata": {
        "id": "FX5nSdmEXOYQ"
      }
    },
    {
      "cell_type": "markdown",
      "source": [
        "## Task 3: Employee Sentiment Scoring\n",
        "\n",
        "This step involves scoring employees based on the sentiment of their messages each month. Every message gets a numeric score depending on its tone:\n",
        "\n",
        "- Positive → +1  \n",
        "- Neutral → 0  \n",
        "- Negative → –1\n",
        "\n",
        "The score is then grouped by **employee** and **month**, so that we can later rank or track trends over time. These scores will also be used in flight risk detection and predictive modeling in later stages.\n"
      ],
      "metadata": {
        "id": "KoiUFCG3Yn-y"
      }
    },
    {
      "cell_type": "markdown",
      "source": [
        "### Preparing Data ,converting date and adding scores"
      ],
      "metadata": {
        "id": "aJggeei7YvZX"
      }
    },
    {
      "cell_type": "code",
      "source": [
        "print(df.columns.tolist())\n"
      ],
      "metadata": {
        "colab": {
          "base_uri": "https://localhost:8080/"
        },
        "id": "Mcpyi46vWl61",
        "outputId": "be78f19f-38df-4152-c3d3-72ce22291850"
      },
      "execution_count": 45,
      "outputs": [
        {
          "output_type": "stream",
          "name": "stdout",
          "text": [
            "['Subject', 'body', 'date', 'from', 'sentiment_label', 'message_length']\n"
          ]
        }
      ]
    },
    {
      "cell_type": "code",
      "source": [
        "print(df[\"sentiment_label\"].unique())"
      ],
      "metadata": {
        "colab": {
          "base_uri": "https://localhost:8080/"
        },
        "id": "pcHLxphmcFu6",
        "outputId": "79ef342f-8ea6-4af0-9f12-f74dbb134961"
      },
      "execution_count": 46,
      "outputs": [
        {
          "output_type": "stream",
          "name": "stdout",
          "text": [
            "['Label_2' 'Label_0' 'Label_1']\n"
          ]
        }
      ]
    },
    {
      "cell_type": "code",
      "source": [
        "df[\"date\"] = pd.to_datetime(df[\"date\"], errors=\"coerce\")\n",
        "\n",
        "df = df.dropna(subset=[\"date\"])\n",
        "\n",
        "df[\"month\"] = df[\"date\"].dt.to_period(\"M\").astype(str)\n",
        "\n",
        "sentiment_to_score = {\n",
        "    \"Label_2\": 1,\n",
        "    \"Label_1\": 0,\n",
        "    \"Label_0\": -1\n",
        "}\n",
        "\n",
        "df[\"sentiment_score\"] = df[\"sentiment_label\"].map(sentiment_to_score)"
      ],
      "metadata": {
        "id": "I3MOJi3XY0uX"
      },
      "execution_count": 47,
      "outputs": []
    },
    {
      "cell_type": "markdown",
      "source": [
        "### Group and Aggregrate\n",
        "\n",
        "With each message scored, I now group them by employee and the month the message was sent. The result shows how an employee’s sentiment fluctuates across months based on the total tone of their messages.\n"
      ],
      "metadata": {
        "id": "-paeihIQZCuZ"
      }
    },
    {
      "cell_type": "markdown",
      "source": [
        "### Monthly Snetiment scores for Employees"
      ],
      "metadata": {
        "id": "AG__i0vsZ8YI"
      }
    },
    {
      "cell_type": "code",
      "source": [
        "monthly_scores = (\n",
        "    df.groupby([\"from\", \"month\"])[\"sentiment_score\"]\n",
        "    .sum()\n",
        "    .reset_index()\n",
        "    .rename(columns={\"from\": \"employee\", \"sentiment_score\": \"monthly_score\"})\n",
        ")"
      ],
      "metadata": {
        "id": "mcREytUMZI2u"
      },
      "execution_count": 48,
      "outputs": []
    },
    {
      "cell_type": "markdown",
      "source": [
        "### Sample Output\n",
        "\n",
        "Before using these scores in later analysis (for ranking or risk), I save them to a CSV file. I also check a few rows to make sure the values look realistic."
      ],
      "metadata": {
        "id": "QgCtC3iZaJcJ"
      }
    },
    {
      "cell_type": "markdown",
      "source": [
        "### Results"
      ],
      "metadata": {
        "id": "D9zdXU-taWD0"
      }
    },
    {
      "cell_type": "code",
      "source": [
        "monthly_scores.to_csv(\"employee_monthly_scores.csv\", index=False)\n",
        "\n",
        "monthly_scores.sample(5, random_state=2)"
      ],
      "metadata": {
        "colab": {
          "base_uri": "https://localhost:8080/",
          "height": 206
        },
        "id": "lVlJbky7aYN0",
        "outputId": "4b3c4002-bd0d-422a-b04b-4d6172f82b9f"
      },
      "execution_count": 49,
      "outputs": [
        {
          "output_type": "execute_result",
          "data": {
            "text/plain": [
              "                    employee    month  monthly_score\n",
              "35    don.baughman@enron.com  2010-12             -2\n",
              "53       eric.bass@enron.com  2010-06              0\n",
              "24    don.baughman@enron.com  2010-01              2\n",
              "54       eric.bass@enron.com  2010-07              2\n",
              "153  lydia.delgado@enron.com  2010-10              7"
            ],
            "text/html": [
              "\n",
              "  <div id=\"df-ba889e23-4469-4742-8038-4c16e0dd4a12\" class=\"colab-df-container\">\n",
              "    <div>\n",
              "<style scoped>\n",
              "    .dataframe tbody tr th:only-of-type {\n",
              "        vertical-align: middle;\n",
              "    }\n",
              "\n",
              "    .dataframe tbody tr th {\n",
              "        vertical-align: top;\n",
              "    }\n",
              "\n",
              "    .dataframe thead th {\n",
              "        text-align: right;\n",
              "    }\n",
              "</style>\n",
              "<table border=\"1\" class=\"dataframe\">\n",
              "  <thead>\n",
              "    <tr style=\"text-align: right;\">\n",
              "      <th></th>\n",
              "      <th>employee</th>\n",
              "      <th>month</th>\n",
              "      <th>monthly_score</th>\n",
              "    </tr>\n",
              "  </thead>\n",
              "  <tbody>\n",
              "    <tr>\n",
              "      <th>35</th>\n",
              "      <td>don.baughman@enron.com</td>\n",
              "      <td>2010-12</td>\n",
              "      <td>-2</td>\n",
              "    </tr>\n",
              "    <tr>\n",
              "      <th>53</th>\n",
              "      <td>eric.bass@enron.com</td>\n",
              "      <td>2010-06</td>\n",
              "      <td>0</td>\n",
              "    </tr>\n",
              "    <tr>\n",
              "      <th>24</th>\n",
              "      <td>don.baughman@enron.com</td>\n",
              "      <td>2010-01</td>\n",
              "      <td>2</td>\n",
              "    </tr>\n",
              "    <tr>\n",
              "      <th>54</th>\n",
              "      <td>eric.bass@enron.com</td>\n",
              "      <td>2010-07</td>\n",
              "      <td>2</td>\n",
              "    </tr>\n",
              "    <tr>\n",
              "      <th>153</th>\n",
              "      <td>lydia.delgado@enron.com</td>\n",
              "      <td>2010-10</td>\n",
              "      <td>7</td>\n",
              "    </tr>\n",
              "  </tbody>\n",
              "</table>\n",
              "</div>\n",
              "    <div class=\"colab-df-buttons\">\n",
              "\n",
              "  <div class=\"colab-df-container\">\n",
              "    <button class=\"colab-df-convert\" onclick=\"convertToInteractive('df-ba889e23-4469-4742-8038-4c16e0dd4a12')\"\n",
              "            title=\"Convert this dataframe to an interactive table.\"\n",
              "            style=\"display:none;\">\n",
              "\n",
              "  <svg xmlns=\"http://www.w3.org/2000/svg\" height=\"24px\" viewBox=\"0 -960 960 960\">\n",
              "    <path d=\"M120-120v-720h720v720H120Zm60-500h600v-160H180v160Zm220 220h160v-160H400v160Zm0 220h160v-160H400v160ZM180-400h160v-160H180v160Zm440 0h160v-160H620v160ZM180-180h160v-160H180v160Zm440 0h160v-160H620v160Z\"/>\n",
              "  </svg>\n",
              "    </button>\n",
              "\n",
              "  <style>\n",
              "    .colab-df-container {\n",
              "      display:flex;\n",
              "      gap: 12px;\n",
              "    }\n",
              "\n",
              "    .colab-df-convert {\n",
              "      background-color: #E8F0FE;\n",
              "      border: none;\n",
              "      border-radius: 50%;\n",
              "      cursor: pointer;\n",
              "      display: none;\n",
              "      fill: #1967D2;\n",
              "      height: 32px;\n",
              "      padding: 0 0 0 0;\n",
              "      width: 32px;\n",
              "    }\n",
              "\n",
              "    .colab-df-convert:hover {\n",
              "      background-color: #E2EBFA;\n",
              "      box-shadow: 0px 1px 2px rgba(60, 64, 67, 0.3), 0px 1px 3px 1px rgba(60, 64, 67, 0.15);\n",
              "      fill: #174EA6;\n",
              "    }\n",
              "\n",
              "    .colab-df-buttons div {\n",
              "      margin-bottom: 4px;\n",
              "    }\n",
              "\n",
              "    [theme=dark] .colab-df-convert {\n",
              "      background-color: #3B4455;\n",
              "      fill: #D2E3FC;\n",
              "    }\n",
              "\n",
              "    [theme=dark] .colab-df-convert:hover {\n",
              "      background-color: #434B5C;\n",
              "      box-shadow: 0px 1px 3px 1px rgba(0, 0, 0, 0.15);\n",
              "      filter: drop-shadow(0px 1px 2px rgba(0, 0, 0, 0.3));\n",
              "      fill: #FFFFFF;\n",
              "    }\n",
              "  </style>\n",
              "\n",
              "    <script>\n",
              "      const buttonEl =\n",
              "        document.querySelector('#df-ba889e23-4469-4742-8038-4c16e0dd4a12 button.colab-df-convert');\n",
              "      buttonEl.style.display =\n",
              "        google.colab.kernel.accessAllowed ? 'block' : 'none';\n",
              "\n",
              "      async function convertToInteractive(key) {\n",
              "        const element = document.querySelector('#df-ba889e23-4469-4742-8038-4c16e0dd4a12');\n",
              "        const dataTable =\n",
              "          await google.colab.kernel.invokeFunction('convertToInteractive',\n",
              "                                                    [key], {});\n",
              "        if (!dataTable) return;\n",
              "\n",
              "        const docLinkHtml = 'Like what you see? Visit the ' +\n",
              "          '<a target=\"_blank\" href=https://colab.research.google.com/notebooks/data_table.ipynb>data table notebook</a>'\n",
              "          + ' to learn more about interactive tables.';\n",
              "        element.innerHTML = '';\n",
              "        dataTable['output_type'] = 'display_data';\n",
              "        await google.colab.output.renderOutput(dataTable, element);\n",
              "        const docLink = document.createElement('div');\n",
              "        docLink.innerHTML = docLinkHtml;\n",
              "        element.appendChild(docLink);\n",
              "      }\n",
              "    </script>\n",
              "  </div>\n",
              "\n",
              "\n",
              "    <div id=\"df-27f3125b-5e64-4924-8577-fc67fba70d0c\">\n",
              "      <button class=\"colab-df-quickchart\" onclick=\"quickchart('df-27f3125b-5e64-4924-8577-fc67fba70d0c')\"\n",
              "                title=\"Suggest charts\"\n",
              "                style=\"display:none;\">\n",
              "\n",
              "<svg xmlns=\"http://www.w3.org/2000/svg\" height=\"24px\"viewBox=\"0 0 24 24\"\n",
              "     width=\"24px\">\n",
              "    <g>\n",
              "        <path d=\"M19 3H5c-1.1 0-2 .9-2 2v14c0 1.1.9 2 2 2h14c1.1 0 2-.9 2-2V5c0-1.1-.9-2-2-2zM9 17H7v-7h2v7zm4 0h-2V7h2v10zm4 0h-2v-4h2v4z\"/>\n",
              "    </g>\n",
              "</svg>\n",
              "      </button>\n",
              "\n",
              "<style>\n",
              "  .colab-df-quickchart {\n",
              "      --bg-color: #E8F0FE;\n",
              "      --fill-color: #1967D2;\n",
              "      --hover-bg-color: #E2EBFA;\n",
              "      --hover-fill-color: #174EA6;\n",
              "      --disabled-fill-color: #AAA;\n",
              "      --disabled-bg-color: #DDD;\n",
              "  }\n",
              "\n",
              "  [theme=dark] .colab-df-quickchart {\n",
              "      --bg-color: #3B4455;\n",
              "      --fill-color: #D2E3FC;\n",
              "      --hover-bg-color: #434B5C;\n",
              "      --hover-fill-color: #FFFFFF;\n",
              "      --disabled-bg-color: #3B4455;\n",
              "      --disabled-fill-color: #666;\n",
              "  }\n",
              "\n",
              "  .colab-df-quickchart {\n",
              "    background-color: var(--bg-color);\n",
              "    border: none;\n",
              "    border-radius: 50%;\n",
              "    cursor: pointer;\n",
              "    display: none;\n",
              "    fill: var(--fill-color);\n",
              "    height: 32px;\n",
              "    padding: 0;\n",
              "    width: 32px;\n",
              "  }\n",
              "\n",
              "  .colab-df-quickchart:hover {\n",
              "    background-color: var(--hover-bg-color);\n",
              "    box-shadow: 0 1px 2px rgba(60, 64, 67, 0.3), 0 1px 3px 1px rgba(60, 64, 67, 0.15);\n",
              "    fill: var(--button-hover-fill-color);\n",
              "  }\n",
              "\n",
              "  .colab-df-quickchart-complete:disabled,\n",
              "  .colab-df-quickchart-complete:disabled:hover {\n",
              "    background-color: var(--disabled-bg-color);\n",
              "    fill: var(--disabled-fill-color);\n",
              "    box-shadow: none;\n",
              "  }\n",
              "\n",
              "  .colab-df-spinner {\n",
              "    border: 2px solid var(--fill-color);\n",
              "    border-color: transparent;\n",
              "    border-bottom-color: var(--fill-color);\n",
              "    animation:\n",
              "      spin 1s steps(1) infinite;\n",
              "  }\n",
              "\n",
              "  @keyframes spin {\n",
              "    0% {\n",
              "      border-color: transparent;\n",
              "      border-bottom-color: var(--fill-color);\n",
              "      border-left-color: var(--fill-color);\n",
              "    }\n",
              "    20% {\n",
              "      border-color: transparent;\n",
              "      border-left-color: var(--fill-color);\n",
              "      border-top-color: var(--fill-color);\n",
              "    }\n",
              "    30% {\n",
              "      border-color: transparent;\n",
              "      border-left-color: var(--fill-color);\n",
              "      border-top-color: var(--fill-color);\n",
              "      border-right-color: var(--fill-color);\n",
              "    }\n",
              "    40% {\n",
              "      border-color: transparent;\n",
              "      border-right-color: var(--fill-color);\n",
              "      border-top-color: var(--fill-color);\n",
              "    }\n",
              "    60% {\n",
              "      border-color: transparent;\n",
              "      border-right-color: var(--fill-color);\n",
              "    }\n",
              "    80% {\n",
              "      border-color: transparent;\n",
              "      border-right-color: var(--fill-color);\n",
              "      border-bottom-color: var(--fill-color);\n",
              "    }\n",
              "    90% {\n",
              "      border-color: transparent;\n",
              "      border-bottom-color: var(--fill-color);\n",
              "    }\n",
              "  }\n",
              "</style>\n",
              "\n",
              "      <script>\n",
              "        async function quickchart(key) {\n",
              "          const quickchartButtonEl =\n",
              "            document.querySelector('#' + key + ' button');\n",
              "          quickchartButtonEl.disabled = true;  // To prevent multiple clicks.\n",
              "          quickchartButtonEl.classList.add('colab-df-spinner');\n",
              "          try {\n",
              "            const charts = await google.colab.kernel.invokeFunction(\n",
              "                'suggestCharts', [key], {});\n",
              "          } catch (error) {\n",
              "            console.error('Error during call to suggestCharts:', error);\n",
              "          }\n",
              "          quickchartButtonEl.classList.remove('colab-df-spinner');\n",
              "          quickchartButtonEl.classList.add('colab-df-quickchart-complete');\n",
              "        }\n",
              "        (() => {\n",
              "          let quickchartButtonEl =\n",
              "            document.querySelector('#df-27f3125b-5e64-4924-8577-fc67fba70d0c button');\n",
              "          quickchartButtonEl.style.display =\n",
              "            google.colab.kernel.accessAllowed ? 'block' : 'none';\n",
              "        })();\n",
              "      </script>\n",
              "    </div>\n",
              "\n",
              "    </div>\n",
              "  </div>\n"
            ],
            "application/vnd.google.colaboratory.intrinsic+json": {
              "type": "dataframe",
              "repr_error": "0"
            }
          },
          "metadata": {},
          "execution_count": 49
        }
      ]
    },
    {
      "cell_type": "markdown",
      "source": [
        "## Are Scores Clustered or Spread?\n",
        "\n",
        "Although this wasn't required, I looked at the overall distribution of scores. This can hint at whether employees are mostly neutral, or if there's variation in how people feel across time.\n"
      ],
      "metadata": {
        "id": "oSlZ9Ez7ajg-"
      }
    },
    {
      "cell_type": "markdown",
      "source": [
        "### Visulaization of Monthly Scores"
      ],
      "metadata": {
        "id": "CmZ3FhyUatB8"
      }
    },
    {
      "cell_type": "code",
      "source": [
        "plt.figure(figsize=(6, 4))\n",
        "monthly_scores[\"monthly_score\"].plot(kind=\"hist\", bins=30, color=\"slateblue\", edgecolor=\"black\")\n",
        "plt.title(\"Distribution of Monthly Sentiment Scores\")\n",
        "plt.xlabel(\"Score (Sum of Sentiment in Month)\")\n",
        "plt.ylabel(\"Employee-Month Count\")\n",
        "plt.tight_layout()\n",
        "plt.savefig(\"visualization/monthly_score_distribution.png\")\n",
        "plt.show()\n"
      ],
      "metadata": {
        "colab": {
          "base_uri": "https://localhost:8080/",
          "height": 407
        },
        "id": "U_tOKySyam57",
        "outputId": "5ae25c37-2e92-46a9-af14-bb4fb0d95d81"
      },
      "execution_count": 50,
      "outputs": [
        {
          "output_type": "display_data",
          "data": {
            "text/plain": [
              "<Figure size 600x400 with 1 Axes>"
            ],
            "image/png": "[encoded data removed]"
          },
          "metadata": {}
        }
      ]
    },
    {
      "cell_type": "markdown",
      "source": [
        "## Summary of Task 3: Monthly Sentiment Scoring\n",
        "\n",
        "This step focused on translating qualitative sentiment labels into a numeric scoring system. The goal was to calculate how each employee's tone varied month to month.\n",
        "\n",
        "After identifying that the model returned sentiment labels in the form of `LABEL_0`, `LABEL_1`, and `LABEL_2`, I mapped them as follows:\n",
        "- `LABEL_2` → +1 (Positive)\n",
        "- `LABEL_1` →  0 (Neutral)\n",
        "- `LABEL_0` → –1 (Negative)\n",
        "\n",
        "Each message received a score based on this mapping, and then scores were grouped by employee and calendar month. This produced a monthly sentiment score for every employee — a single number representing the emotional tone of their messages during that period.\n",
        "\n",
        "Initially, the scores were all showing as `0.0` due to a mismatch in label mapping. After correcting the mappings to match the actual model outputs, the scores reflected a meaningful distribution.\n",
        "\n",
        "These monthly scores will be used in the next tasks — to rank employees and identify those at potential flight risk. The structure also makes it easy to spot trends in employee morale or communication tone over time.\n"
      ],
      "metadata": {
        "id": "IDSa-FnlczCl"
      }
    },
    {
      "cell_type": "markdown",
      "source": [
        "## Task 4: Employee Ranking\n",
        "\n",
        "This task identifies standout communicators each month — both the most positive and most negative. Using the sentiment scores computed earlier, I ranked employees per month based on the total sentiment tone of their messages.\n",
        "\n",
        "Two lists were created per month:\n",
        "- Top 3 employees with the **highest** sentiment scores (most positive)\n",
        "- Bottom 3 employees with the **lowest** scores (most negative)\n",
        "\n",
        "If employees had the same score, I broke ties alphabetically.\n"
      ],
      "metadata": {
        "id": "x-iBmNDLZnW_"
      }
    },
    {
      "cell_type": "markdown",
      "source": [
        "### Loading scores and setup"
      ],
      "metadata": {
        "id": "_6xaSfmOa_j8"
      }
    },
    {
      "cell_type": "code",
      "source": [
        "monthly_scores = (\n",
        "    df.groupby([\"from\", \"month\"])[\"sentiment_score\"]\n",
        "    .sum()\n",
        "    .reset_index()\n",
        "    .rename(columns={\"from\": \"employee\", \"sentiment_score\": \"monthly_score\"})\n",
        ")\n"
      ],
      "metadata": {
        "id": "CAjCWgJzbKO9"
      },
      "execution_count": 51,
      "outputs": []
    },
    {
      "cell_type": "markdown",
      "source": [
        "## Applying Ranking Logic\n",
        "\n",
        "Each employee's monthly score was ranked in descending order to determine positivity, and ascending order to capture negativity. The approach is grounded in actual totals, not proportions or approximations.\n"
      ],
      "metadata": {
        "id": "A2N9mzO7jptI"
      }
    },
    {
      "cell_type": "code",
      "source": [
        "def rank_employees(group):\n",
        "    top = group.sort_values(by=[\"monthly_score\", \"employee\"], ascending=[False, True]).head(3)\n",
        "    top[\"rank_type\"] = \"Top Positive\"\n",
        "\n",
        "    bottom = group.sort_values(by=[\"monthly_score\", \"employee\"], ascending=[True, True]).head(3)\n",
        "    bottom[\"rank_type\"] = \"Top Negative\"\n",
        "\n",
        "    return pd.concat([top, bottom])\n",
        "\n",
        "ranked_employees = monthly_scores.groupby(\"month\").apply(rank_employees).reset_index(drop=True)\n"
      ],
      "metadata": {
        "colab": {
          "base_uri": "https://localhost:8080/"
        },
        "id": "-wNsHMN-lyx-",
        "outputId": "48655e3c-929b-41b3-98fa-9c439a4c9b71"
      },
      "execution_count": 52,
      "outputs": [
        {
          "output_type": "stream",
          "name": "stderr",
          "text": [
            "<ipython-input-52-4016890942>:10: DeprecationWarning: DataFrameGroupBy.apply operated on the grouping columns. This behavior is deprecated, and in a future version of pandas the grouping columns will be excluded from the operation. Either pass `include_groups=False` to exclude the groupings or explicitly select the grouping columns after groupby to silence this warning.\n",
            "  ranked_employees = monthly_scores.groupby(\"month\").apply(rank_employees).reset_index(drop=True)\n"
          ]
        }
      ]
    },
    {
      "cell_type": "markdown",
      "source": [
        "## Saving Rankings and View Sample\n",
        "\n",
        "The final ranked lists show which employees had the most consistently positive (or negative) communication each month. This gives an interpretable way to track morale and team tone.\n"
      ],
      "metadata": {
        "id": "n1DO1SPHmRFT"
      }
    },
    {
      "cell_type": "code",
      "source": [
        "ranked_employees.to_csv(\"employee_rankings_by_month.csv\", index=False)\n",
        "\n",
        "ranked_employees.head(6)\n"
      ],
      "metadata": {
        "colab": {
          "base_uri": "https://localhost:8080/",
          "height": 238
        },
        "id": "GiaQPr6hmb5i",
        "outputId": "0024a3a0-0476-4769-ef89-a3dfc78c82ea"
      },
      "execution_count": 53,
      "outputs": [
        {
          "output_type": "execute_result",
          "data": {
            "text/plain": [
              "                      employee    month  monthly_score     rank_type\n",
              "0          eric.bass@enron.com  2010-01              3  Top Positive\n",
              "1     patti.thompson@enron.com  2010-01              3  Top Positive\n",
              "2       don.baughman@enron.com  2010-01              2  Top Positive\n",
              "3         sally.beck@enron.com  2010-01             -1  Top Negative\n",
              "4  bobette.riner@ipgdirect.com  2010-01              0  Top Negative\n",
              "5        john.arnold@enron.com  2010-01              0  Top Negative"
            ],
            "text/html": [
              "\n",
              "  <div id=\"df-5c9df258-94c6-4245-822a-e4e0caef161c\" class=\"colab-df-container\">\n",
              "    <div>\n",
              "<style scoped>\n",
              "    .dataframe tbody tr th:only-of-type {\n",
              "        vertical-align: middle;\n",
              "    }\n",
              "\n",
              "    .dataframe tbody tr th {\n",
              "        vertical-align: top;\n",
              "    }\n",
              "\n",
              "    .dataframe thead th {\n",
              "        text-align: right;\n",
              "    }\n",
              "</style>\n",
              "<table border=\"1\" class=\"dataframe\">\n",
              "  <thead>\n",
              "    <tr style=\"text-align: right;\">\n",
              "      <th></th>\n",
              "      <th>employee</th>\n",
              "      <th>month</th>\n",
              "      <th>monthly_score</th>\n",
              "      <th>rank_type</th>\n",
              "    </tr>\n",
              "  </thead>\n",
              "  <tbody>\n",
              "    <tr>\n",
              "      <th>0</th>\n",
              "      <td>eric.bass@enron.com</td>\n",
              "      <td>2010-01</td>\n",
              "      <td>3</td>\n",
              "      <td>Top Positive</td>\n",
              "    </tr>\n",
              "    <tr>\n",
              "      <th>1</th>\n",
              "      <td>patti.thompson@enron.com</td>\n",
              "      <td>2010-01</td>\n",
              "      <td>3</td>\n",
              "      <td>Top Positive</td>\n",
              "    </tr>\n",
              "    <tr>\n",
              "      <th>2</th>\n",
              "      <td>don.baughman@enron.com</td>\n",
              "      <td>2010-01</td>\n",
              "      <td>2</td>\n",
              "      <td>Top Positive</td>\n",
              "    </tr>\n",
              "    <tr>\n",
              "      <th>3</th>\n",
              "      <td>sally.beck@enron.com</td>\n",
              "      <td>2010-01</td>\n",
              "      <td>-1</td>\n",
              "      <td>Top Negative</td>\n",
              "    </tr>\n",
              "    <tr>\n",
              "      <th>4</th>\n",
              "      <td>bobette.riner@ipgdirect.com</td>\n",
              "      <td>2010-01</td>\n",
              "      <td>0</td>\n",
              "      <td>Top Negative</td>\n",
              "    </tr>\n",
              "    <tr>\n",
              "      <th>5</th>\n",
              "      <td>john.arnold@enron.com</td>\n",
              "      <td>2010-01</td>\n",
              "      <td>0</td>\n",
              "      <td>Top Negative</td>\n",
              "    </tr>\n",
              "  </tbody>\n",
              "</table>\n",
              "</div>\n",
              "    <div class=\"colab-df-buttons\">\n",
              "\n",
              "  <div class=\"colab-df-container\">\n",
              "    <button class=\"colab-df-convert\" onclick=\"convertToInteractive('df-5c9df258-94c6-4245-822a-e4e0caef161c')\"\n",
              "            title=\"Convert this dataframe to an interactive table.\"\n",
              "            style=\"display:none;\">\n",
              "\n",
              "  <svg xmlns=\"http://www.w3.org/2000/svg\" height=\"24px\" viewBox=\"0 -960 960 960\">\n",
              "    <path d=\"M120-120v-720h720v720H120Zm60-500h600v-160H180v160Zm220 220h160v-160H400v160Zm0 220h160v-160H400v160ZM180-400h160v-160H180v160Zm440 0h160v-160H620v160ZM180-180h160v-160H180v160Zm440 0h160v-160H620v160Z\"/>\n",
              "  </svg>\n",
              "    </button>\n",
              "\n",
              "  <style>\n",
              "    .colab-df-container {\n",
              "      display:flex;\n",
              "      gap: 12px;\n",
              "    }\n",
              "\n",
              "    .colab-df-convert {\n",
              "      background-color: #E8F0FE;\n",
              "      border: none;\n",
              "      border-radius: 50%;\n",
              "      cursor: pointer;\n",
              "      display: none;\n",
              "      fill: #1967D2;\n",
              "      height: 32px;\n",
              "      padding: 0 0 0 0;\n",
              "      width: 32px;\n",
              "    }\n",
              "\n",
              "    .colab-df-convert:hover {\n",
              "      background-color: #E2EBFA;\n",
              "      box-shadow: 0px 1px 2px rgba(60, 64, 67, 0.3), 0px 1px 3px 1px rgba(60, 64, 67, 0.15);\n",
              "      fill: #174EA6;\n",
              "    }\n",
              "\n",
              "    .colab-df-buttons div {\n",
              "      margin-bottom: 4px;\n",
              "    }\n",
              "\n",
              "    [theme=dark] .colab-df-convert {\n",
              "      background-color: #3B4455;\n",
              "      fill: #D2E3FC;\n",
              "    }\n",
              "\n",
              "    [theme=dark] .colab-df-convert:hover {\n",
              "      background-color: #434B5C;\n",
              "      box-shadow: 0px 1px 3px 1px rgba(0, 0, 0, 0.15);\n",
              "      filter: drop-shadow(0px 1px 2px rgba(0, 0, 0, 0.3));\n",
              "      fill: #FFFFFF;\n",
              "    }\n",
              "  </style>\n",
              "\n",
              "    <script>\n",
              "      const buttonEl =\n",
              "        document.querySelector('#df-5c9df258-94c6-4245-822a-e4e0caef161c button.colab-df-convert');\n",
              "      buttonEl.style.display =\n",
              "        google.colab.kernel.accessAllowed ? 'block' : 'none';\n",
              "\n",
              "      async function convertToInteractive(key) {\n",
              "        const element = document.querySelector('#df-5c9df258-94c6-4245-822a-e4e0caef161c');\n",
              "        const dataTable =\n",
              "          await google.colab.kernel.invokeFunction('convertToInteractive',\n",
              "                                                    [key], {});\n",
              "        if (!dataTable) return;\n",
              "\n",
              "        const docLinkHtml = 'Like what you see? Visit the ' +\n",
              "          '<a target=\"_blank\" href=https://colab.research.google.com/notebooks/data_table.ipynb>data table notebook</a>'\n",
              "          + ' to learn more about interactive tables.';\n",
              "        element.innerHTML = '';\n",
              "        dataTable['output_type'] = 'display_data';\n",
              "        await google.colab.output.renderOutput(dataTable, element);\n",
              "        const docLink = document.createElement('div');\n",
              "        docLink.innerHTML = docLinkHtml;\n",
              "        element.appendChild(docLink);\n",
              "      }\n",
              "    </script>\n",
              "  </div>\n",
              "\n",
              "\n",
              "    <div id=\"df-3de55253-fc5a-4b14-9b0d-fb4eed974ab6\">\n",
              "      <button class=\"colab-df-quickchart\" onclick=\"quickchart('df-3de55253-fc5a-4b14-9b0d-fb4eed974ab6')\"\n",
              "                title=\"Suggest charts\"\n",
              "                style=\"display:none;\">\n",
              "\n",
              "<svg xmlns=\"http://www.w3.org/2000/svg\" height=\"24px\"viewBox=\"0 0 24 24\"\n",
              "     width=\"24px\">\n",
              "    <g>\n",
              "        <path d=\"M19 3H5c-1.1 0-2 .9-2 2v14c0 1.1.9 2 2 2h14c1.1 0 2-.9 2-2V5c0-1.1-.9-2-2-2zM9 17H7v-7h2v7zm4 0h-2V7h2v10zm4 0h-2v-4h2v4z\"/>\n",
              "    </g>\n",
              "</svg>\n",
              "      </button>\n",
              "\n",
              "<style>\n",
              "  .colab-df-quickchart {\n",
              "      --bg-color: #E8F0FE;\n",
              "      --fill-color: #1967D2;\n",
              "      --hover-bg-color: #E2EBFA;\n",
              "      --hover-fill-color: #174EA6;\n",
              "      --disabled-fill-color: #AAA;\n",
              "      --disabled-bg-color: #DDD;\n",
              "  }\n",
              "\n",
              "  [theme=dark] .colab-df-quickchart {\n",
              "      --bg-color: #3B4455;\n",
              "      --fill-color: #D2E3FC;\n",
              "      --hover-bg-color: #434B5C;\n",
              "      --hover-fill-color: #FFFFFF;\n",
              "      --disabled-bg-color: #3B4455;\n",
              "      --disabled-fill-color: #666;\n",
              "  }\n",
              "\n",
              "  .colab-df-quickchart {\n",
              "    background-color: var(--bg-color);\n",
              "    border: none;\n",
              "    border-radius: 50%;\n",
              "    cursor: pointer;\n",
              "    display: none;\n",
              "    fill: var(--fill-color);\n",
              "    height: 32px;\n",
              "    padding: 0;\n",
              "    width: 32px;\n",
              "  }\n",
              "\n",
              "  .colab-df-quickchart:hover {\n",
              "    background-color: var(--hover-bg-color);\n",
              "    box-shadow: 0 1px 2px rgba(60, 64, 67, 0.3), 0 1px 3px 1px rgba(60, 64, 67, 0.15);\n",
              "    fill: var(--button-hover-fill-color);\n",
              "  }\n",
              "\n",
              "  .colab-df-quickchart-complete:disabled,\n",
              "  .colab-df-quickchart-complete:disabled:hover {\n",
              "    background-color: var(--disabled-bg-color);\n",
              "    fill: var(--disabled-fill-color);\n",
              "    box-shadow: none;\n",
              "  }\n",
              "\n",
              "  .colab-df-spinner {\n",
              "    border: 2px solid var(--fill-color);\n",
              "    border-color: transparent;\n",
              "    border-bottom-color: var(--fill-color);\n",
              "    animation:\n",
              "      spin 1s steps(1) infinite;\n",
              "  }\n",
              "\n",
              "  @keyframes spin {\n",
              "    0% {\n",
              "      border-color: transparent;\n",
              "      border-bottom-color: var(--fill-color);\n",
              "      border-left-color: var(--fill-color);\n",
              "    }\n",
              "    20% {\n",
              "      border-color: transparent;\n",
              "      border-left-color: var(--fill-color);\n",
              "      border-top-color: var(--fill-color);\n",
              "    }\n",
              "    30% {\n",
              "      border-color: transparent;\n",
              "      border-left-color: var(--fill-color);\n",
              "      border-top-color: var(--fill-color);\n",
              "      border-right-color: var(--fill-color);\n",
              "    }\n",
              "    40% {\n",
              "      border-color: transparent;\n",
              "      border-right-color: var(--fill-color);\n",
              "      border-top-color: var(--fill-color);\n",
              "    }\n",
              "    60% {\n",
              "      border-color: transparent;\n",
              "      border-right-color: var(--fill-color);\n",
              "    }\n",
              "    80% {\n",
              "      border-color: transparent;\n",
              "      border-right-color: var(--fill-color);\n",
              "      border-bottom-color: var(--fill-color);\n",
              "    }\n",
              "    90% {\n",
              "      border-color: transparent;\n",
              "      border-bottom-color: var(--fill-color);\n",
              "    }\n",
              "  }\n",
              "</style>\n",
              "\n",
              "      <script>\n",
              "        async function quickchart(key) {\n",
              "          const quickchartButtonEl =\n",
              "            document.querySelector('#' + key + ' button');\n",
              "          quickchartButtonEl.disabled = true;  // To prevent multiple clicks.\n",
              "          quickchartButtonEl.classList.add('colab-df-spinner');\n",
              "          try {\n",
              "            const charts = await google.colab.kernel.invokeFunction(\n",
              "                'suggestCharts', [key], {});\n",
              "          } catch (error) {\n",
              "            console.error('Error during call to suggestCharts:', error);\n",
              "          }\n",
              "          quickchartButtonEl.classList.remove('colab-df-spinner');\n",
              "          quickchartButtonEl.classList.add('colab-df-quickchart-complete');\n",
              "        }\n",
              "        (() => {\n",
              "          let quickchartButtonEl =\n",
              "            document.querySelector('#df-3de55253-fc5a-4b14-9b0d-fb4eed974ab6 button');\n",
              "          quickchartButtonEl.style.display =\n",
              "            google.colab.kernel.accessAllowed ? 'block' : 'none';\n",
              "        })();\n",
              "      </script>\n",
              "    </div>\n",
              "\n",
              "    </div>\n",
              "  </div>\n"
            ],
            "application/vnd.google.colaboratory.intrinsic+json": {
              "type": "dataframe",
              "variable_name": "ranked_employees",
              "summary": "{\n  \"name\": \"ranked_employees\",\n  \"rows\": 144,\n  \"fields\": [\n    {\n      \"column\": \"employee\",\n      \"properties\": {\n        \"dtype\": \"category\",\n        \"num_unique_values\": 10,\n        \"samples\": [\n          \"lydia.delgado@enron.com\",\n          \"patti.thompson@enron.com\",\n          \"john.arnold@enron.com\"\n        ],\n        \"semantic_type\": \"\",\n        \"description\": \"\"\n      }\n    },\n    {\n      \"column\": \"month\",\n      \"properties\": {\n        \"dtype\": \"object\",\n        \"num_unique_values\": 24,\n        \"samples\": [\n          \"2010-09\",\n          \"2011-05\",\n          \"2010-01\"\n        ],\n        \"semantic_type\": \"\",\n        \"description\": \"\"\n      }\n    },\n    {\n      \"column\": \"monthly_score\",\n      \"properties\": {\n        \"dtype\": \"number\",\n        \"std\": 2,\n        \"min\": -2,\n        \"max\": 7,\n        \"num_unique_values\": 10,\n        \"samples\": [\n          7,\n          2,\n          5\n        ],\n        \"semantic_type\": \"\",\n        \"description\": \"\"\n      }\n    },\n    {\n      \"column\": \"rank_type\",\n      \"properties\": {\n        \"dtype\": \"category\",\n        \"num_unique_values\": 2,\n        \"samples\": [\n          \"Top Negative\",\n          \"Top Positive\"\n        ],\n        \"semantic_type\": \"\",\n        \"description\": \"\"\n      }\n    }\n  ]\n}"
            }
          },
          "metadata": {},
          "execution_count": 53
        }
      ]
    },
    {
      "cell_type": "markdown",
      "source": [
        "### Visualisation of Top 3 Negative Employees per month"
      ],
      "metadata": {
        "id": "yuHt3noAGFCI"
      }
    },
    {
      "cell_type": "code",
      "source": [
        "top_negative = ranked_employees[ranked_employees[\"rank_type\"] == \"Top Negative\"]\n",
        "monthly_negatives = top_negative.groupby([\"month\", \"employee\"]).size().unstack(fill_value=0)\n",
        "\n",
        "# Plot and save negative chart\n",
        "plt.figure(figsize=(14, 6))\n",
        "monthly_negatives.plot(\n",
        "    kind=\"bar\", stacked=True, colormap=\"tab20\", figsize=(14, 6)\n",
        ")\n",
        "plt.title(\"Top 3 Negative Employees Over Time\")\n",
        "plt.xlabel(\"Month\")\n",
        "plt.ylabel(\"Count\")\n",
        "plt.xticks(rotation=45, ha=\"right\")\n",
        "plt.legend(title=\"Employee\", bbox_to_anchor=(1.05, 1), loc=\"upper left\")\n",
        "plt.tight_layout()\n",
        "plt.savefig(\"visualization/top_negative_employees_over_time.png\")\n",
        "plt.show()\n"
      ],
      "metadata": {
        "colab": {
          "base_uri": "https://localhost:8080/",
          "height": 624
        },
        "id": "su_QVMicGDzg",
        "outputId": "5532b798-b1d6-4690-bf44-881b4457b28e"
      },
      "execution_count": 54,
      "outputs": [
        {
          "output_type": "display_data",
          "data": {
            "text/plain": [
              "<Figure size 1400x600 with 0 Axes>"
            ]
          },
          "metadata": {}
        },
        {
          "output_type": "display_data",
          "data": {
            "text/plain": [
              "<Figure size 1400x600 with 1 Axes>"
            ],
            "image/png": "[encoded data removed]"
          },
          "metadata": {}
        }
      ]
    },
    {
      "cell_type": "markdown",
      "source": [
        "### Visulaisation of Top 3 Positive Employees per month"
      ],
      "metadata": {
        "id": "u8-0eCjoGc06"
      }
    },
    {
      "cell_type": "code",
      "source": [
        "# Top 3 Positive Employees Over Time\n",
        "top_positive = ranked_employees[ranked_employees[\"rank_type\"] == \"Top Positive\"]\n",
        "monthly_positives = top_positive.groupby([\"month\", \"employee\"]).size().unstack(fill_value=0)\n",
        "\n",
        "# Plot and save positive chart\n",
        "plt.figure(figsize=(14, 6))\n",
        "monthly_positives.plot(\n",
        "    kind=\"bar\", stacked=True, colormap=\"tab20\", figsize=(14, 6)\n",
        ")\n",
        "plt.title(\"Top 3 Positive Employees Over Time\")\n",
        "plt.xlabel(\"Month\")\n",
        "plt.ylabel(\"Count\")\n",
        "plt.xticks(rotation=45, ha=\"right\")\n",
        "plt.legend(title=\"Employee\", bbox_to_anchor=(1.05, 1), loc=\"upper left\")\n",
        "plt.tight_layout()\n",
        "plt.savefig(\"visualization/top_positive_employees_over_time.png\")\n",
        "plt.show()\n"
      ],
      "metadata": {
        "colab": {
          "base_uri": "https://localhost:8080/",
          "height": 624
        },
        "id": "yB638MaqGi0_",
        "outputId": "88b0ad57-a4dc-4763-ee77-7af2e8e3ae97"
      },
      "execution_count": 55,
      "outputs": [
        {
          "output_type": "display_data",
          "data": {
            "text/plain": [
              "<Figure size 1400x600 with 0 Axes>"
            ]
          },
          "metadata": {}
        },
        {
          "output_type": "display_data",
          "data": {
            "text/plain": [
              "<Figure size 1400x600 with 1 Axes>"
            ],
            "image/png": "[encoded data removed]"
          },
          "metadata": {}
        }
      ]
    },
    {
      "cell_type": "markdown",
      "source": [
        "## Summary of Task 4 : Employee Sentiment Ranking\n",
        "\n",
        "This task identified the top 3 most positive and most negative employees for each month, based on their total sentiment score.\n",
        "\n",
        "To go beyond raw tables, I used **stacked bar charts** to visualize the monthly presence of each employee in the top 3 lists.\n",
        "\n",
        "### Why This Chart?\n",
        "\n",
        "I chose this format because:\n",
        "- It clearly shows **recurrence**: how often specific employees appear in the top or bottom ranks.\n",
        "- It highlights **temporal patterns**: you can see shifts in sentiment participation across months.\n",
        "- It offers a balanced view of **team morale influencers** — not just one-time peaks.\n",
        "\n",
        "### Key Insights:\n",
        "\n",
        "- Some employees appear repeatedly in the **Top 3 Negative** list across many months. This consistency might signal dissatisfaction or potential risk.\n",
        "- Others have a strong presence in the **Top 3 Positive** list, often month after month — likely key contributors to positive team culture.\n",
        "- A few names appear in both positive and negative lists at different times, suggesting sentiment swings possibly driven by project phases or communication tone shifts.\n",
        "\n",
        "This visualization adds narrative strength to the raw sentiment scores. It supports spotting stable morale trends and detecting potential concerns early.\n"
      ],
      "metadata": {
        "id": "P4YBfCe6qBBN"
      }
    },
    {
      "cell_type": "markdown",
      "source": [
        "## Task 5: Flight Risk Identification\n",
        "This task aims to identify employees who exhibit patterns of sustained negative sentiment, which may indicate a higher likelihood of disengagement or resignation. An employee is flagged as a potential **flight risk** if they have sent **four or more negative messages** within any **rolling 30-day period** — not constrained to calendar months.\n",
        "\n",
        "This approach aligns with the FAQ guidance that warns against blindly using arbitrary thresholds or fixed time segments without domain validation. Here, we ensure contextual relevance by detecting sustained negativity in dynamic windows.\n",
        "\n"
      ],
      "metadata": {
        "id": "7m_Dnz2hcgdj"
      }
    },
    {
      "cell_type": "markdown",
      "source": [
        "### Pre-processing and Filtering"
      ],
      "metadata": {
        "id": "wuMYdfz1cnyY"
      }
    },
    {
      "cell_type": "code",
      "source": [
        "\n",
        "df[\"date\"] = pd.to_datetime(df[\"date\"], errors=\"coerce\")\n",
        "df.dropna(subset=[\"date\"], inplace=True)\n",
        "negatives = df[df[\"sentiment_label\"] == \"Label_0\"].copy()\n",
        "negatives = negatives.sort_values(by=[\"from\", \"date\"])\n"
      ],
      "metadata": {
        "id": "5hnNWXtUcxZ7"
      },
      "execution_count": 56,
      "outputs": []
    },
    {
      "cell_type": "markdown",
      "source": [
        "### Rolling Window\n",
        "\n",
        "Instead of relying on static month buckets, we scan each employee's message history using a rolling window approach. If any four messages are found within the same 30-day span, the employee is flagged once as a potential flight risk.\n",
        "\n",
        "This approach adheres to the FAQ’s recommendation to **validate temporal logic** and **not rely on rigid month-based cutoffs**.\n"
      ],
      "metadata": {
        "id": "QlnNXIyWJ9Xx"
      }
    },
    {
      "cell_type": "code",
      "source": [
        "# Rolling window logic to detect flight risk employees\n",
        "flight_risks_set = set()\n",
        "\n",
        "for employee, group in negatives.groupby(\"from\"):\n",
        "    dates = group[\"date\"].sort_values().reset_index(drop=True)\n",
        "    for i in range(len(dates) - 3):  # window of 4 messages\n",
        "        window = dates[i:i+4]\n",
        "        if (window.iloc[-1] - window.iloc[0]).days <= 30:\n",
        "            flight_risks_set.add(employee)\n",
        "            break"
      ],
      "metadata": {
        "id": "PBql4mzmKBoa"
      },
      "execution_count": 57,
      "outputs": []
    },
    {
      "cell_type": "markdown",
      "source": [
        "### Output\n",
        "\n",
        "Once the detection is complete, we organize the flagged employees into a clean table for reporting. This list is used to inform HR insights and prepare supporting visualizations.\n"
      ],
      "metadata": {
        "id": "Bz_1lOONKKds"
      }
    },
    {
      "cell_type": "code",
      "source": [
        "flight_risk_df = pd.DataFrame(sorted(flight_risks_set), columns=[\"employee\"])\n",
        "\n",
        "flight_risk_df.to_csv(\"visualization/final_flight_risk_employees_FIXED.csv\", index=False)\n",
        "\n",
        "flight_risk_df.head()"
      ],
      "metadata": {
        "colab": {
          "base_uri": "https://localhost:8080/",
          "height": 175
        },
        "id": "Hh2ZTNPWKNWz",
        "outputId": "ea3a54f9-b1d9-4bea-de72-02ec3e024084"
      },
      "execution_count": 58,
      "outputs": [
        {
          "output_type": "execute_result",
          "data": {
            "text/plain": [
              "                      employee\n",
              "0  bobette.riner@ipgdirect.com\n",
              "1       don.baughman@enron.com\n",
              "2        john.arnold@enron.com\n",
              "3         sally.beck@enron.com"
            ],
            "text/html": [
              "\n",
              "  <div id=\"df-43b35dfc-5eb3-445d-843d-1e3164497320\" class=\"colab-df-container\">\n",
              "    <div>\n",
              "<style scoped>\n",
              "    .dataframe tbody tr th:only-of-type {\n",
              "        vertical-align: middle;\n",
              "    }\n",
              "\n",
              "    .dataframe tbody tr th {\n",
              "        vertical-align: top;\n",
              "    }\n",
              "\n",
              "    .dataframe thead th {\n",
              "        text-align: right;\n",
              "    }\n",
              "</style>\n",
              "<table border=\"1\" class=\"dataframe\">\n",
              "  <thead>\n",
              "    <tr style=\"text-align: right;\">\n",
              "      <th></th>\n",
              "      <th>employee</th>\n",
              "    </tr>\n",
              "  </thead>\n",
              "  <tbody>\n",
              "    <tr>\n",
              "      <th>0</th>\n",
              "      <td>bobette.riner@ipgdirect.com</td>\n",
              "    </tr>\n",
              "    <tr>\n",
              "      <th>1</th>\n",
              "      <td>don.baughman@enron.com</td>\n",
              "    </tr>\n",
              "    <tr>\n",
              "      <th>2</th>\n",
              "      <td>john.arnold@enron.com</td>\n",
              "    </tr>\n",
              "    <tr>\n",
              "      <th>3</th>\n",
              "      <td>sally.beck@enron.com</td>\n",
              "    </tr>\n",
              "  </tbody>\n",
              "</table>\n",
              "</div>\n",
              "    <div class=\"colab-df-buttons\">\n",
              "\n",
              "  <div class=\"colab-df-container\">\n",
              "    <button class=\"colab-df-convert\" onclick=\"convertToInteractive('df-43b35dfc-5eb3-445d-843d-1e3164497320')\"\n",
              "            title=\"Convert this dataframe to an interactive table.\"\n",
              "            style=\"display:none;\">\n",
              "\n",
              "  <svg xmlns=\"http://www.w3.org/2000/svg\" height=\"24px\" viewBox=\"0 -960 960 960\">\n",
              "    <path d=\"M120-120v-720h720v720H120Zm60-500h600v-160H180v160Zm220 220h160v-160H400v160Zm0 220h160v-160H400v160ZM180-400h160v-160H180v160Zm440 0h160v-160H620v160ZM180-180h160v-160H180v160Zm440 0h160v-160H620v160Z\"/>\n",
              "  </svg>\n",
              "    </button>\n",
              "\n",
              "  <style>\n",
              "    .colab-df-container {\n",
              "      display:flex;\n",
              "      gap: 12px;\n",
              "    }\n",
              "\n",
              "    .colab-df-convert {\n",
              "      background-color: #E8F0FE;\n",
              "      border: none;\n",
              "      border-radius: 50%;\n",
              "      cursor: pointer;\n",
              "      display: none;\n",
              "      fill: #1967D2;\n",
              "      height: 32px;\n",
              "      padding: 0 0 0 0;\n",
              "      width: 32px;\n",
              "    }\n",
              "\n",
              "    .colab-df-convert:hover {\n",
              "      background-color: #E2EBFA;\n",
              "      box-shadow: 0px 1px 2px rgba(60, 64, 67, 0.3), 0px 1px 3px 1px rgba(60, 64, 67, 0.15);\n",
              "      fill: #174EA6;\n",
              "    }\n",
              "\n",
              "    .colab-df-buttons div {\n",
              "      margin-bottom: 4px;\n",
              "    }\n",
              "\n",
              "    [theme=dark] .colab-df-convert {\n",
              "      background-color: #3B4455;\n",
              "      fill: #D2E3FC;\n",
              "    }\n",
              "\n",
              "    [theme=dark] .colab-df-convert:hover {\n",
              "      background-color: #434B5C;\n",
              "      box-shadow: 0px 1px 3px 1px rgba(0, 0, 0, 0.15);\n",
              "      filter: drop-shadow(0px 1px 2px rgba(0, 0, 0, 0.3));\n",
              "      fill: #FFFFFF;\n",
              "    }\n",
              "  </style>\n",
              "\n",
              "    <script>\n",
              "      const buttonEl =\n",
              "        document.querySelector('#df-43b35dfc-5eb3-445d-843d-1e3164497320 button.colab-df-convert');\n",
              "      buttonEl.style.display =\n",
              "        google.colab.kernel.accessAllowed ? 'block' : 'none';\n",
              "\n",
              "      async function convertToInteractive(key) {\n",
              "        const element = document.querySelector('#df-43b35dfc-5eb3-445d-843d-1e3164497320');\n",
              "        const dataTable =\n",
              "          await google.colab.kernel.invokeFunction('convertToInteractive',\n",
              "                                                    [key], {});\n",
              "        if (!dataTable) return;\n",
              "\n",
              "        const docLinkHtml = 'Like what you see? Visit the ' +\n",
              "          '<a target=\"_blank\" href=https://colab.research.google.com/notebooks/data_table.ipynb>data table notebook</a>'\n",
              "          + ' to learn more about interactive tables.';\n",
              "        element.innerHTML = '';\n",
              "        dataTable['output_type'] = 'display_data';\n",
              "        await google.colab.output.renderOutput(dataTable, element);\n",
              "        const docLink = document.createElement('div');\n",
              "        docLink.innerHTML = docLinkHtml;\n",
              "        element.appendChild(docLink);\n",
              "      }\n",
              "    </script>\n",
              "  </div>\n",
              "\n",
              "\n",
              "    <div id=\"df-494e291b-fc02-4dd1-aca2-be2bd58836e2\">\n",
              "      <button class=\"colab-df-quickchart\" onclick=\"quickchart('df-494e291b-fc02-4dd1-aca2-be2bd58836e2')\"\n",
              "                title=\"Suggest charts\"\n",
              "                style=\"display:none;\">\n",
              "\n",
              "<svg xmlns=\"http://www.w3.org/2000/svg\" height=\"24px\"viewBox=\"0 0 24 24\"\n",
              "     width=\"24px\">\n",
              "    <g>\n",
              "        <path d=\"M19 3H5c-1.1 0-2 .9-2 2v14c0 1.1.9 2 2 2h14c1.1 0 2-.9 2-2V5c0-1.1-.9-2-2-2zM9 17H7v-7h2v7zm4 0h-2V7h2v10zm4 0h-2v-4h2v4z\"/>\n",
              "    </g>\n",
              "</svg>\n",
              "      </button>\n",
              "\n",
              "<style>\n",
              "  .colab-df-quickchart {\n",
              "      --bg-color: #E8F0FE;\n",
              "      --fill-color: #1967D2;\n",
              "      --hover-bg-color: #E2EBFA;\n",
              "      --hover-fill-color: #174EA6;\n",
              "      --disabled-fill-color: #AAA;\n",
              "      --disabled-bg-color: #DDD;\n",
              "  }\n",
              "\n",
              "  [theme=dark] .colab-df-quickchart {\n",
              "      --bg-color: #3B4455;\n",
              "      --fill-color: #D2E3FC;\n",
              "      --hover-bg-color: #434B5C;\n",
              "      --hover-fill-color: #FFFFFF;\n",
              "      --disabled-bg-color: #3B4455;\n",
              "      --disabled-fill-color: #666;\n",
              "  }\n",
              "\n",
              "  .colab-df-quickchart {\n",
              "    background-color: var(--bg-color);\n",
              "    border: none;\n",
              "    border-radius: 50%;\n",
              "    cursor: pointer;\n",
              "    display: none;\n",
              "    fill: var(--fill-color);\n",
              "    height: 32px;\n",
              "    padding: 0;\n",
              "    width: 32px;\n",
              "  }\n",
              "\n",
              "  .colab-df-quickchart:hover {\n",
              "    background-color: var(--hover-bg-color);\n",
              "    box-shadow: 0 1px 2px rgba(60, 64, 67, 0.3), 0 1px 3px 1px rgba(60, 64, 67, 0.15);\n",
              "    fill: var(--button-hover-fill-color);\n",
              "  }\n",
              "\n",
              "  .colab-df-quickchart-complete:disabled,\n",
              "  .colab-df-quickchart-complete:disabled:hover {\n",
              "    background-color: var(--disabled-bg-color);\n",
              "    fill: var(--disabled-fill-color);\n",
              "    box-shadow: none;\n",
              "  }\n",
              "\n",
              "  .colab-df-spinner {\n",
              "    border: 2px solid var(--fill-color);\n",
              "    border-color: transparent;\n",
              "    border-bottom-color: var(--fill-color);\n",
              "    animation:\n",
              "      spin 1s steps(1) infinite;\n",
              "  }\n",
              "\n",
              "  @keyframes spin {\n",
              "    0% {\n",
              "      border-color: transparent;\n",
              "      border-bottom-color: var(--fill-color);\n",
              "      border-left-color: var(--fill-color);\n",
              "    }\n",
              "    20% {\n",
              "      border-color: transparent;\n",
              "      border-left-color: var(--fill-color);\n",
              "      border-top-color: var(--fill-color);\n",
              "    }\n",
              "    30% {\n",
              "      border-color: transparent;\n",
              "      border-left-color: var(--fill-color);\n",
              "      border-top-color: var(--fill-color);\n",
              "      border-right-color: var(--fill-color);\n",
              "    }\n",
              "    40% {\n",
              "      border-color: transparent;\n",
              "      border-right-color: var(--fill-color);\n",
              "      border-top-color: var(--fill-color);\n",
              "    }\n",
              "    60% {\n",
              "      border-color: transparent;\n",
              "      border-right-color: var(--fill-color);\n",
              "    }\n",
              "    80% {\n",
              "      border-color: transparent;\n",
              "      border-right-color: var(--fill-color);\n",
              "      border-bottom-color: var(--fill-color);\n",
              "    }\n",
              "    90% {\n",
              "      border-color: transparent;\n",
              "      border-bottom-color: var(--fill-color);\n",
              "    }\n",
              "  }\n",
              "</style>\n",
              "\n",
              "      <script>\n",
              "        async function quickchart(key) {\n",
              "          const quickchartButtonEl =\n",
              "            document.querySelector('#' + key + ' button');\n",
              "          quickchartButtonEl.disabled = true;  // To prevent multiple clicks.\n",
              "          quickchartButtonEl.classList.add('colab-df-spinner');\n",
              "          try {\n",
              "            const charts = await google.colab.kernel.invokeFunction(\n",
              "                'suggestCharts', [key], {});\n",
              "          } catch (error) {\n",
              "            console.error('Error during call to suggestCharts:', error);\n",
              "          }\n",
              "          quickchartButtonEl.classList.remove('colab-df-spinner');\n",
              "          quickchartButtonEl.classList.add('colab-df-quickchart-complete');\n",
              "        }\n",
              "        (() => {\n",
              "          let quickchartButtonEl =\n",
              "            document.querySelector('#df-494e291b-fc02-4dd1-aca2-be2bd58836e2 button');\n",
              "          quickchartButtonEl.style.display =\n",
              "            google.colab.kernel.accessAllowed ? 'block' : 'none';\n",
              "        })();\n",
              "      </script>\n",
              "    </div>\n",
              "\n",
              "    </div>\n",
              "  </div>\n"
            ],
            "application/vnd.google.colaboratory.intrinsic+json": {
              "type": "dataframe",
              "variable_name": "flight_risk_df",
              "summary": "{\n  \"name\": \"flight_risk_df\",\n  \"rows\": 4,\n  \"fields\": [\n    {\n      \"column\": \"employee\",\n      \"properties\": {\n        \"dtype\": \"string\",\n        \"num_unique_values\": 4,\n        \"samples\": [\n          \"don.baughman@enron.com\",\n          \"sally.beck@enron.com\",\n          \"bobette.riner@ipgdirect.com\"\n        ],\n        \"semantic_type\": \"\",\n        \"description\": \"\"\n      }\n    }\n  ]\n}"
            }
          },
          "metadata": {},
          "execution_count": 58
        }
      ]
    },
    {
      "cell_type": "markdown",
      "source": [
        "### Summary of Task 5 - Flight Risk Identification\n",
        "\n",
        "After applying a rolling window logic aligned with the project objectives and FAQ recommendations, we identified **4 employees** as potential flight risks:\n",
        "\n",
        "1. **bobette.riner@ipgdirect.com**  \n",
        "2. **don.baughman@enron.com**  \n",
        "3. **john.arnold@enron.com**  \n",
        "4. **sally.beck@enron.com**\n",
        "\n",
        "These individuals each sent **4 or more negative messages** (`Label_0`) within a **30-day period**, which is a meaningful behavioral signal indicating potential disengagement or dissatisfaction.\n",
        "\n",
        "This method avoids rigid monthly cutoffs and instead uses precise **temporal logic**, following guidance from FAQ Q5 and Q8. This ensures risk detection is both **context-sensitive** and **statistically sound**, reducing noise while capturing critical patterns.\n",
        "\n",
        "The results were confirmed through both **manual inspection** and **automated logic**, making the outcome reliable for downstream HR analysis or intervention.\n"
      ],
      "metadata": {
        "id": "v93LJzDwdw7i"
      }
    },
    {
      "cell_type": "markdown",
      "source": [
        "## Task 6: Predictive Modeling\n",
        "\n",
        "The goal of this task is to predict monthly sentiment scores of employees using communication-related features. By analyzing patterns in message frequency and length, we aim to quantify how behavioral indicators correlate with emotional tone.\n",
        "\n",
        "This approach fulfills the project objective and FAQ guidance by:\n",
        "\n",
        "- Selecting domain-relevant features (FAQ Q6)\n",
        "\n",
        "- Using interpretable models and clear metrics (FAQ Q7)\n",
        "\n",
        "- Avoiding black-box or unjustified logic (FAQ Q8)\n",
        "\n",
        "- Supporting a cohesive narrative from inputs to insights (FAQ Q9)"
      ],
      "metadata": {
        "id": "vUBPuyQFd2I0"
      }
    },
    {
      "cell_type": "markdown",
      "source": [
        "### Preparing Monthly feature Dataset"
      ],
      "metadata": {
        "id": "6W-MQH2EeGnU"
      }
    },
    {
      "cell_type": "code",
      "source": [
        "\n",
        "df_raw = pd.read_csv(\"test(in).csv\")\n",
        "df_labeled = pd.read_csv(\"labeled_dataset_roberta_3class.csv\")\n",
        "df_labeled[\"employee\"] = df_raw[\"from\"]\n",
        "df_labeled[\"date\"] = pd.to_datetime(df_raw[\"date\"], errors=\"coerce\")\n",
        "df_labeled[\"message_length\"] = df_raw[\"body\"].str.len()\n",
        "\n",
        "sentiment_map = {\"Label_0\": -1, \"Label_1\": 0, \"Label_2\": 1}\n",
        "df_labeled[\"sentiment_score\"] = df_labeled[\"sentiment_label\"].map(sentiment_map)\n",
        "df_labeled[\"month\"] = df_labeled[\"date\"].dt.to_period(\"M\").astype(str)\n",
        "\n",
        "monthly_df = (\n",
        "    df_labeled.groupby([\"employee\", \"month\"])\n",
        "    .agg(\n",
        "        sentiment_score=(\"sentiment_score\", \"sum\"),\n",
        "        message_count=(\"body\", \"count\"),\n",
        "        avg_message_length=(\"message_length\", \"mean\"),\n",
        "        total_message_length=(\"message_length\", \"sum\")\n",
        "    )\n",
        "    .reset_index()\n",
        ")"
      ],
      "metadata": {
        "id": "223qMg8JeNa8"
      },
      "execution_count": 59,
      "outputs": []
    },
    {
      "cell_type": "markdown",
      "source": [
        "### Train,Test Split and  Model building\n",
        "We split the data into training and test sets (80/20), and fit a Linear Regression model to predict sentiment_score based on:\n",
        "\n",
        "- message_count\n",
        "\n",
        "- avg_message_length\n",
        "\n",
        "- total_message_length\n",
        "\n",
        "These features are both intuitive and interpretable, adhering to FAQ Q6.\n",
        "\n",
        "\n",
        "\n"
      ],
      "metadata": {
        "id": "0CEHLrrOekYg"
      }
    },
    {
      "cell_type": "code",
      "source": [
        "from sklearn.model_selection import train_test_split\n",
        "from sklearn.linear_model import LinearRegression\n",
        "from sklearn.metrics import r2_score, mean_squared_error\n",
        "\n",
        "X = monthly_df[[\"message_count\", \"avg_message_length\", \"total_message_length\"]]\n",
        "y = monthly_df[\"sentiment_score\"]\n",
        "X_train, X_test, y_train, y_test = train_test_split(X, y, test_size=0.2, random_state=42)\n",
        "\n",
        "model = LinearRegression()\n",
        "model.fit(X_train, y_train)\n",
        "\n",
        "y_pred = model.predict(X_test)\n",
        "r2 = r2_score(y_test, y_pred)\n",
        "mse = mean_squared_error(y_test, y_pred)\n",
        "print(\"r2 :\",r2)\n",
        "print(\"mse :\",mse)"
      ],
      "metadata": {
        "colab": {
          "base_uri": "https://localhost:8080/"
        },
        "id": "mlZ1ifNueorZ",
        "outputId": "8ccab762-9d00-4b08-91bd-cd18924d1991"
      },
      "execution_count": 60,
      "outputs": [
        {
          "output_type": "stream",
          "name": "stdout",
          "text": [
            "r2 : 0.21443260508711726\n",
            "mse : 3.1801159255001985\n"
          ]
        }
      ]
    },
    {
      "cell_type": "markdown",
      "source": [
        "### Results Interpretation\n",
        "- R² (variance explained): ~21%\n",
        "\n",
        "- MSE (error magnitude): ~3.18\n",
        "\n",
        "This indicates a moderate relationship between communication behavior and sentiment score. While not a strong predictor, the model surfaces important behavioral signals.\n",
        "\n",
        "Below are the model coefficients, showing each feature's contribution:\n"
      ],
      "metadata": {
        "id": "E3ubUEYuTw18"
      }
    },
    {
      "cell_type": "markdown",
      "source": [
        "## Model Co-efficient\n"
      ],
      "metadata": {
        "id": "qQlJtfztT8D5"
      }
    },
    {
      "cell_type": "code",
      "source": [
        "pd.DataFrame({\n",
        "    \"Feature\": X.columns,\n",
        "    \"Coefficient\": model.coef_\n",
        "})"
      ],
      "metadata": {
        "colab": {
          "base_uri": "https://localhost:8080/",
          "height": 143
        },
        "id": "peGzHEFIUJb5",
        "outputId": "849d2611-a0a8-4c26-81b3-6a74eef39ea1"
      },
      "execution_count": 61,
      "outputs": [
        {
          "output_type": "execute_result",
          "data": {
            "text/plain": [
              "                Feature  Coefficient\n",
              "0         message_count     0.129666\n",
              "1    avg_message_length     0.000081\n",
              "2  total_message_length     0.000146"
            ],
            "text/html": [
              "\n",
              "  <div id=\"df-ca6702d2-cf87-46ae-8dea-92786dbf6e57\" class=\"colab-df-container\">\n",
              "    <div>\n",
              "<style scoped>\n",
              "    .dataframe tbody tr th:only-of-type {\n",
              "        vertical-align: middle;\n",
              "    }\n",
              "\n",
              "    .dataframe tbody tr th {\n",
              "        vertical-align: top;\n",
              "    }\n",
              "\n",
              "    .dataframe thead th {\n",
              "        text-align: right;\n",
              "    }\n",
              "</style>\n",
              "<table border=\"1\" class=\"dataframe\">\n",
              "  <thead>\n",
              "    <tr style=\"text-align: right;\">\n",
              "      <th></th>\n",
              "      <th>Feature</th>\n",
              "      <th>Coefficient</th>\n",
              "    </tr>\n",
              "  </thead>\n",
              "  <tbody>\n",
              "    <tr>\n",
              "      <th>0</th>\n",
              "      <td>message_count</td>\n",
              "      <td>0.129666</td>\n",
              "    </tr>\n",
              "    <tr>\n",
              "      <th>1</th>\n",
              "      <td>avg_message_length</td>\n",
              "      <td>0.000081</td>\n",
              "    </tr>\n",
              "    <tr>\n",
              "      <th>2</th>\n",
              "      <td>total_message_length</td>\n",
              "      <td>0.000146</td>\n",
              "    </tr>\n",
              "  </tbody>\n",
              "</table>\n",
              "</div>\n",
              "    <div class=\"colab-df-buttons\">\n",
              "\n",
              "  <div class=\"colab-df-container\">\n",
              "    <button class=\"colab-df-convert\" onclick=\"convertToInteractive('df-ca6702d2-cf87-46ae-8dea-92786dbf6e57')\"\n",
              "            title=\"Convert this dataframe to an interactive table.\"\n",
              "            style=\"display:none;\">\n",
              "\n",
              "  <svg xmlns=\"http://www.w3.org/2000/svg\" height=\"24px\" viewBox=\"0 -960 960 960\">\n",
              "    <path d=\"M120-120v-720h720v720H120Zm60-500h600v-160H180v160Zm220 220h160v-160H400v160Zm0 220h160v-160H400v160ZM180-400h160v-160H180v160Zm440 0h160v-160H620v160ZM180-180h160v-160H180v160Zm440 0h160v-160H620v160Z\"/>\n",
              "  </svg>\n",
              "    </button>\n",
              "\n",
              "  <style>\n",
              "    .colab-df-container {\n",
              "      display:flex;\n",
              "      gap: 12px;\n",
              "    }\n",
              "\n",
              "    .colab-df-convert {\n",
              "      background-color: #E8F0FE;\n",
              "      border: none;\n",
              "      border-radius: 50%;\n",
              "      cursor: pointer;\n",
              "      display: none;\n",
              "      fill: #1967D2;\n",
              "      height: 32px;\n",
              "      padding: 0 0 0 0;\n",
              "      width: 32px;\n",
              "    }\n",
              "\n",
              "    .colab-df-convert:hover {\n",
              "      background-color: #E2EBFA;\n",
              "      box-shadow: 0px 1px 2px rgba(60, 64, 67, 0.3), 0px 1px 3px 1px rgba(60, 64, 67, 0.15);\n",
              "      fill: #174EA6;\n",
              "    }\n",
              "\n",
              "    .colab-df-buttons div {\n",
              "      margin-bottom: 4px;\n",
              "    }\n",
              "\n",
              "    [theme=dark] .colab-df-convert {\n",
              "      background-color: #3B4455;\n",
              "      fill: #D2E3FC;\n",
              "    }\n",
              "\n",
              "    [theme=dark] .colab-df-convert:hover {\n",
              "      background-color: #434B5C;\n",
              "      box-shadow: 0px 1px 3px 1px rgba(0, 0, 0, 0.15);\n",
              "      filter: drop-shadow(0px 1px 2px rgba(0, 0, 0, 0.3));\n",
              "      fill: #FFFFFF;\n",
              "    }\n",
              "  </style>\n",
              "\n",
              "    <script>\n",
              "      const buttonEl =\n",
              "        document.querySelector('#df-ca6702d2-cf87-46ae-8dea-92786dbf6e57 button.colab-df-convert');\n",
              "      buttonEl.style.display =\n",
              "        google.colab.kernel.accessAllowed ? 'block' : 'none';\n",
              "\n",
              "      async function convertToInteractive(key) {\n",
              "        const element = document.querySelector('#df-ca6702d2-cf87-46ae-8dea-92786dbf6e57');\n",
              "        const dataTable =\n",
              "          await google.colab.kernel.invokeFunction('convertToInteractive',\n",
              "                                                    [key], {});\n",
              "        if (!dataTable) return;\n",
              "\n",
              "        const docLinkHtml = 'Like what you see? Visit the ' +\n",
              "          '<a target=\"_blank\" href=https://colab.research.google.com/notebooks/data_table.ipynb>data table notebook</a>'\n",
              "          + ' to learn more about interactive tables.';\n",
              "        element.innerHTML = '';\n",
              "        dataTable['output_type'] = 'display_data';\n",
              "        await google.colab.output.renderOutput(dataTable, element);\n",
              "        const docLink = document.createElement('div');\n",
              "        docLink.innerHTML = docLinkHtml;\n",
              "        element.appendChild(docLink);\n",
              "      }\n",
              "    </script>\n",
              "  </div>\n",
              "\n",
              "\n",
              "    <div id=\"df-12e34232-e499-45a5-b65c-f9c6e3b60747\">\n",
              "      <button class=\"colab-df-quickchart\" onclick=\"quickchart('df-12e34232-e499-45a5-b65c-f9c6e3b60747')\"\n",
              "                title=\"Suggest charts\"\n",
              "                style=\"display:none;\">\n",
              "\n",
              "<svg xmlns=\"http://www.w3.org/2000/svg\" height=\"24px\"viewBox=\"0 0 24 24\"\n",
              "     width=\"24px\">\n",
              "    <g>\n",
              "        <path d=\"M19 3H5c-1.1 0-2 .9-2 2v14c0 1.1.9 2 2 2h14c1.1 0 2-.9 2-2V5c0-1.1-.9-2-2-2zM9 17H7v-7h2v7zm4 0h-2V7h2v10zm4 0h-2v-4h2v4z\"/>\n",
              "    </g>\n",
              "</svg>\n",
              "      </button>\n",
              "\n",
              "<style>\n",
              "  .colab-df-quickchart {\n",
              "      --bg-color: #E8F0FE;\n",
              "      --fill-color: #1967D2;\n",
              "      --hover-bg-color: #E2EBFA;\n",
              "      --hover-fill-color: #174EA6;\n",
              "      --disabled-fill-color: #AAA;\n",
              "      --disabled-bg-color: #DDD;\n",
              "  }\n",
              "\n",
              "  [theme=dark] .colab-df-quickchart {\n",
              "      --bg-color: #3B4455;\n",
              "      --fill-color: #D2E3FC;\n",
              "      --hover-bg-color: #434B5C;\n",
              "      --hover-fill-color: #FFFFFF;\n",
              "      --disabled-bg-color: #3B4455;\n",
              "      --disabled-fill-color: #666;\n",
              "  }\n",
              "\n",
              "  .colab-df-quickchart {\n",
              "    background-color: var(--bg-color);\n",
              "    border: none;\n",
              "    border-radius: 50%;\n",
              "    cursor: pointer;\n",
              "    display: none;\n",
              "    fill: var(--fill-color);\n",
              "    height: 32px;\n",
              "    padding: 0;\n",
              "    width: 32px;\n",
              "  }\n",
              "\n",
              "  .colab-df-quickchart:hover {\n",
              "    background-color: var(--hover-bg-color);\n",
              "    box-shadow: 0 1px 2px rgba(60, 64, 67, 0.3), 0 1px 3px 1px rgba(60, 64, 67, 0.15);\n",
              "    fill: var(--button-hover-fill-color);\n",
              "  }\n",
              "\n",
              "  .colab-df-quickchart-complete:disabled,\n",
              "  .colab-df-quickchart-complete:disabled:hover {\n",
              "    background-color: var(--disabled-bg-color);\n",
              "    fill: var(--disabled-fill-color);\n",
              "    box-shadow: none;\n",
              "  }\n",
              "\n",
              "  .colab-df-spinner {\n",
              "    border: 2px solid var(--fill-color);\n",
              "    border-color: transparent;\n",
              "    border-bottom-color: var(--fill-color);\n",
              "    animation:\n",
              "      spin 1s steps(1) infinite;\n",
              "  }\n",
              "\n",
              "  @keyframes spin {\n",
              "    0% {\n",
              "      border-color: transparent;\n",
              "      border-bottom-color: var(--fill-color);\n",
              "      border-left-color: var(--fill-color);\n",
              "    }\n",
              "    20% {\n",
              "      border-color: transparent;\n",
              "      border-left-color: var(--fill-color);\n",
              "      border-top-color: var(--fill-color);\n",
              "    }\n",
              "    30% {\n",
              "      border-color: transparent;\n",
              "      border-left-color: var(--fill-color);\n",
              "      border-top-color: var(--fill-color);\n",
              "      border-right-color: var(--fill-color);\n",
              "    }\n",
              "    40% {\n",
              "      border-color: transparent;\n",
              "      border-right-color: var(--fill-color);\n",
              "      border-top-color: var(--fill-color);\n",
              "    }\n",
              "    60% {\n",
              "      border-color: transparent;\n",
              "      border-right-color: var(--fill-color);\n",
              "    }\n",
              "    80% {\n",
              "      border-color: transparent;\n",
              "      border-right-color: var(--fill-color);\n",
              "      border-bottom-color: var(--fill-color);\n",
              "    }\n",
              "    90% {\n",
              "      border-color: transparent;\n",
              "      border-bottom-color: var(--fill-color);\n",
              "    }\n",
              "  }\n",
              "</style>\n",
              "\n",
              "      <script>\n",
              "        async function quickchart(key) {\n",
              "          const quickchartButtonEl =\n",
              "            document.querySelector('#' + key + ' button');\n",
              "          quickchartButtonEl.disabled = true;  // To prevent multiple clicks.\n",
              "          quickchartButtonEl.classList.add('colab-df-spinner');\n",
              "          try {\n",
              "            const charts = await google.colab.kernel.invokeFunction(\n",
              "                'suggestCharts', [key], {});\n",
              "          } catch (error) {\n",
              "            console.error('Error during call to suggestCharts:', error);\n",
              "          }\n",
              "          quickchartButtonEl.classList.remove('colab-df-spinner');\n",
              "          quickchartButtonEl.classList.add('colab-df-quickchart-complete');\n",
              "        }\n",
              "        (() => {\n",
              "          let quickchartButtonEl =\n",
              "            document.querySelector('#df-12e34232-e499-45a5-b65c-f9c6e3b60747 button');\n",
              "          quickchartButtonEl.style.display =\n",
              "            google.colab.kernel.accessAllowed ? 'block' : 'none';\n",
              "        })();\n",
              "      </script>\n",
              "    </div>\n",
              "\n",
              "    </div>\n",
              "  </div>\n"
            ],
            "application/vnd.google.colaboratory.intrinsic+json": {
              "type": "dataframe",
              "summary": "{\n  \"name\": \"})\",\n  \"rows\": 3,\n  \"fields\": [\n    {\n      \"column\": \"Feature\",\n      \"properties\": {\n        \"dtype\": \"string\",\n        \"num_unique_values\": 3,\n        \"samples\": [\n          \"message_count\",\n          \"avg_message_length\",\n          \"total_message_length\"\n        ],\n        \"semantic_type\": \"\",\n        \"description\": \"\"\n      }\n    },\n    {\n      \"column\": \"Coefficient\",\n      \"properties\": {\n        \"dtype\": \"number\",\n        \"std\": 0.07479721475517691,\n        \"min\": 8.056205526425618e-05,\n        \"max\": 0.1296659066303433,\n        \"num_unique_values\": 3,\n        \"samples\": [\n          0.1296659066303433,\n          8.056205526425618e-05,\n          0.00014612364786632662\n        ],\n        \"semantic_type\": \"\",\n        \"description\": \"\"\n      }\n    }\n  ]\n}"
            }
          },
          "metadata": {},
          "execution_count": 61
        }
      ]
    },
    {
      "cell_type": "markdown",
      "source": [
        "### Plotting (Actual vs Predicted score)"
      ],
      "metadata": {
        "id": "tlE5K8shuFSM"
      }
    },
    {
      "cell_type": "code",
      "source": [
        "plt.figure(figsize=(8, 5))\n",
        "plt.scatter(y_test, y_pred, color='darkorange', alpha=0.7, label=\"Predictions\")\n",
        "plt.plot([y.min(), y.max()], [y.min(), y.max()], 'k--', lw=2, label=\"Ideal Fit\")\n",
        "plt.xlabel(\"Actual Sentiment Score\")\n",
        "plt.ylabel(\"Predicted Sentiment Score\")\n",
        "plt.title(\"Linear Regression: Predicted vs Actual Sentiment Scores\")\n",
        "plt.legend()\n",
        "plt.grid(True)\n",
        "plt.tight_layout()\n",
        "plt.savefig(\"visualization/task6_sentiment_regression_plot.png\")\n",
        "plt.show()\n"
      ],
      "metadata": {
        "colab": {
          "base_uri": "https://localhost:8080/",
          "height": 507
        },
        "id": "ng0Ew3WXuJjv",
        "outputId": "8fb97fad-f2d5-44e6-98a0-7b5272d93a4b"
      },
      "execution_count": 62,
      "outputs": [
        {
          "output_type": "display_data",
          "data": {
            "text/plain": [
              "<Figure size 800x500 with 1 Axes>"
            ],
            "image/png": "[encoded data removed]"
          },
          "metadata": {}
        }
      ]
    },
    {
      "cell_type": "markdown",
      "source": [
        "### Summary of Task 6 - Predictive Modeling\n",
        "\n",
        "In this task, I trained a linear regression model to predict monthly sentiment scores using features derived from employee messages. The selected inputs included:\n",
        "\n",
        "- Message Count per employee per month\n",
        "\n",
        "- Average Message Length\n",
        "\n",
        "- Total Message Length\n",
        "\n",
        "These features were chosen based on their logical connection to sentiment behavior, following FAQ Q6 guidance on thoughtful, domain-aware feature selection.\n",
        "\n",
        "After splitting the data into training and test sets, the model was evaluated using:\n",
        "\n",
        "- R² Score: Indicates the proportion of variance explained (~21%)\n",
        "\n",
        "- Mean Squared Error (MSE): Captures average prediction error (~3.18)\n",
        "\n",
        "A plot comparing predicted vs actual sentiment scores highlights how closely (or not) the model aligns with reality. The dashed line represents perfect predictions — most points are near this line but show noticeable variance, indicating limited but non-trivial predictive power.\n",
        "\n",
        "This approach meets the modeling requirements by:\n",
        "\n",
        "- Using meaningful features\n",
        "\n",
        "- Applying proper evaluation metrics (FAQ Q7)\n",
        "\n",
        "- Interpreting outputs without over-relying on the model (FAQ Q8/Q9)\n",
        "\n",
        "Overall, this task demonstrates that while basic message metrics offer some predictive signal, more advanced techniques or additional features would be needed for stronger accuracy.\n",
        "\n"
      ],
      "metadata": {
        "id": "LAHAyG3FgEVq"
      }
    }
  ]
}